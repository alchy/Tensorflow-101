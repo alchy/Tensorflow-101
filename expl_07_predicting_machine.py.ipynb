{
 "cells": [
  {
   "cell_type": "markdown",
   "metadata": {},
   "source": [
    "# Stroj na předpověď"
   ]
  },
  {
   "cell_type": "markdown",
   "metadata": {},
   "source": [
    "Náš první program, '<b>Simple Prediction Machine</b>' je velmi zjednodušenou ukázkou principů Machine Learningu. Pattern, který si zde ukážeme, je však aplikovaný při učení většiny supervised ML modelů. "
   ]
  },
  {
   "cell_type": "markdown",
   "metadata": {},
   "source": [
    "![alt text](pictures/machine_learning_small.jpg  \"Machine Learning\")"
   ]
  },
  {
   "cell_type": "markdown",
   "metadata": {},
   "source": [
    "Ještě než začneme - v ML je zažité označovat vstup jako X, požadovaný výstup Y a předpověď modelu jako ŷ [y-hat]. Náš program bude mít jeden vstup a jeden výstup. Vstupem je zadání a výstupem je řešení. Stejně jako na obrázku."
   ]
  },
  {
   "cell_type": "code",
   "execution_count": 1,
   "metadata": {
    "collapsed": true
   },
   "outputs": [],
   "source": [
    "import tensorflow as tf\n",
    "\n",
    "nr_inputs = 1"
   ]
  },
  {
   "cell_type": "markdown",
   "metadata": {},
   "source": [
    "X a Y reprezentují naše tréningová data. Úkolem SPM je najít správný vztah mezi vstupem a výstupem s použitím funkcí Tensorflow. Už víte, jaký je v datech reprezentován vztah?"
   ]
  },
  {
   "cell_type": "code",
   "execution_count": 2,
   "metadata": {
    "collapsed": true
   },
   "outputs": [],
   "source": [
    "X =   [ [8.],       [45.],      [323.],     [0.0], [100] ]\n",
    "Y =   [ [4.970970], [27.96170], [200.7029], [0.0], [62.13712] ]"
   ]
  },
  {
   "cell_type": "markdown",
   "metadata": {},
   "source": [
    "picture of speedometer"
   ]
  },
  {
   "cell_type": "markdown",
   "metadata": {},
   "source": [
    "<b>Tréningová data, která máme k dispozici, rozdělíme.</b> Část z nich použijeme na učení našeho modelu, druhou si necháme k tomu, abychom si ověřili, zda model je schopen provádět predikci i nad daty, která nebyla použita při tréningu."
   ]
  },
  {
   "cell_type": "code",
   "execution_count": 3,
   "metadata": {
    "collapsed": false
   },
   "outputs": [
    {
     "name": "stdout",
     "output_type": "stream",
     "text": [
      "train_x:  [[8.0], [45.0], [323.0]]\n",
      "train_y:  [[4.97097], [27.9617], [200.7029]]\n",
      "test_x:  [[0.0], [100]]\n",
      "test_y:  [[0.0], [62.13712]]\n"
     ]
    }
   ],
   "source": [
    "train_x =   X[:3]\n",
    "train_y =   Y[:3]\n",
    "print('train_x: ', train_x)\n",
    "print('train_y: ', train_y)\n",
    "\n",
    "test_x  =   X[3:]\n",
    "test_y  =   Y[3:]\n",
    "print('test_x: ', test_x)\n",
    "print('test_y: ', test_y)"
   ]
  },
  {
   "cell_type": "markdown",
   "metadata": {},
   "source": [
    "V programu definujeme ve scope 'input' placeholder input a ve scope 'target' placeholder, kam budeme ukládat požadovaný výsledek k příslušnému vstupu. Definice scope není povinná, má zde jen pomoci lepší přehlednosti grafu zobrazeného na Tensorboardu."
   ]
  },
  {
   "cell_type": "code",
   "execution_count": 4,
   "metadata": {
    "collapsed": false
   },
   "outputs": [],
   "source": [
    "with tf.name_scope('input'):\n",
    "   x = tf.placeholder(tf.float32, [None, nr_inputs], name='input')\n",
    "\n",
    "with tf.name_scope('target'):\n",
    "   y = tf.placeholder(tf.float32, [None, 1], name='target')"
   ]
  },
  {
   "cell_type": "markdown",
   "metadata": {},
   "source": [
    "Zde je vnitřek naší 'prediction machine'. Za fasádou strojového učení se v našem zjednodušeném příkladu skrývá lineární funkce x * W. Jak uvidíte později, každý jeden ML neuron, má v sobě též schovanou obyčejnou lineární funkci. Ještě se vrátíme k Tensoru Variable, který je pro Tensorflow takzvaný Trainable Tensor.  Trainable Tensory mohou být měněny funkcemi Tensorflow tak, aby funkce konvergovala ke správnému výsledku. "
   ]
  },
  {
   "cell_type": "markdown",
   "metadata": {},
   "source": [
    "![alt text](pictures/ML_pattern.png \"Suervised ML Pattern\")"
   ]
  },
  {
   "cell_type": "code",
   "execution_count": 5,
   "metadata": {
    "collapsed": true
   },
   "outputs": [],
   "source": [
    "with tf.name_scope('p_machine'):\n",
    "\n",
    "    with tf.name_scope('Wtrainable'):\n",
    "        # Weight - Variable is by default trainable\n",
    "        W = tf.Variable(tf.random_uniform([nr_inputs, 1], -1, 1), name=\"rand_W\")\n",
    "        tf.trainable_variables()\n",
    "    \n",
    "    with tf.name_scope('prediction_fn'):\n",
    "        pred = tf.matmul(x, W, name='Wx')"
   ]
  },
  {
   "cell_type": "markdown",
   "metadata": {},
   "source": [
    "Jak se Tensorflow přilíží ke správnému výsledku? Tensorflow provede úpravu hodnoty tensoru W a srovnáním se správným výsledkem (pred - y) spočítá, zda se hodnota chyby zvětšila, nebo zmenšila. Potom se vydá v optimalizaci tensoru W takovým směrem, aby hodnota chyby po každé operaci klesla. Tento přístup se nazývá <b>Gradient Descent</b>. Parametry Gradient Descent optimalizace, např. hodnota kroku, se dají vložit jako parametr funkce. Pokud bychom parametr slope nastavili příliš velký, pravděpodoně se nepovede najít optimální hodnotu. Pokud však bude příliš malý, model bude ke správnému výsledku konvergovat déle."
   ]
  },
  {
   "cell_type": "code",
   "execution_count": 26,
   "metadata": {
    "collapsed": false
   },
   "outputs": [],
   "source": [
    "with tf.name_scope(\"training\") as scope:\n",
    "    \n",
    "    with tf.name_scope(\"cost_fn\") as scope:\n",
    "        cost_function = tf.reduce_sum(pred - y) ** 2\n",
    "        \n",
    "    #train = tf.train.AdamOptimizer().minimize(cost_function)\n",
    "    #vyzkoušej  \n",
    "    #train = tf.train.GradientDescentOptimizer(0.01).minimize(cost_function)\n",
    "    #výpočet by měl selhat, hodnota NaN, příliš velký slope \n",
    "    train = tf.train.GradientDescentOptimizer(0.000001).minimize(cost_function)"
   ]
  },
  {
   "cell_type": "markdown",
   "metadata": {},
   "source": [
    "![alt text](pictures/gradient_descent_slope.png \"Gradient Descent slope\")"
   ]
  },
  {
   "cell_type": "markdown",
   "metadata": {},
   "source": [
    "Možná trochu matoucí názvy <b>'cost'</b>, případně <b>'loss'</b> jsou v ML zažité termíny pro <b>chybu</b>."
   ]
  },
  {
   "cell_type": "code",
   "execution_count": 28,
   "metadata": {
    "collapsed": false
   },
   "outputs": [],
   "source": [
    "with tf.Session() as sess:\n",
    "    writer = tf.summary.FileWriter(\"./tensorboard_example\", sess.graph)\n",
    "\n",
    "    tf.summary.scalar(\"cost\", cost_function)\n",
    "    merged_summary = tf.summary.merge_all()"
   ]
  },
  {
   "cell_type": "markdown",
   "metadata": {},
   "source": [
    "Tady už vše necháme na Tensorflow, až bude náš 'prediction machine' model generovat dostatečně malou chybu, proces modifikace proměnné Variable ukončíme.Podíváme se pak do Tensorboardu a celý program si tam ještě jednou rozebereme. "
   ]
  },
  {
   "cell_type": "code",
   "execution_count": 25,
   "metadata": {
    "collapsed": false
   },
   "outputs": [
    {
     "name": "stdout",
     "output_type": "stream",
     "text": [
      "Weight(s): \n",
      "[[ 0.62154001]]\n",
      "Predidctions for: \n",
      "[[0.0], [100]]\n",
      "is: \n",
      "[[  0.        ]\n",
      " [ 62.15399933]]\n",
      "100Km/h = 62.13712mph\n"
     ]
    }
   ],
   "source": [
    "    sess.run(tf.global_variables_initializer())\n",
    "\n",
    "    cost_function_result = 1000.0\n",
    "    training_epoch = 0\n",
    "    \n",
    "    while cost_function_result > 0.01:\n",
    "        training_epoch += 1\n",
    "        _, cost_function_result = sess.run([train, cost_function], feed_dict={x: train_x, y: train_y})\n",
    "        if training_epoch % 1000 == 0:\n",
    "            writer.add_summary(\n",
    "                sess.run(merged_summary, feed_dict={x: train_x, y: train_y}), training_epoch)\n",
    "            print('epoch: ', training_epoch, ' cost: ', cost_function_result)\n",
    "    \n",
    "    # feed predictor with test data and print results\n",
    "    res = sess.run(pred, feed_dict={x: test_x})\n",
    "    print(\"Weight(s): \")\n",
    "    print(sess.run(W))\n",
    "    print(\"Predidctions for: \")\n",
    "    print(test_x)\n",
    "    print(\"is: \")\n",
    "    print(res)\n",
    "    print('100Km/h = 62.13712mph')"
   ]
  },
  {
   "cell_type": "markdown",
   "metadata": {
    "collapsed": true
   },
   "source": [
    "# Odkazy:"
   ]
  },
  {
   "cell_type": "markdown",
   "metadata": {},
   "source": [
    "https://iamtrask.github.io/2015/07/27/python-network-part2/"
   ]
  }
 ],
 "metadata": {
  "kernelspec": {
   "display_name": "Python 3.6",
   "language": "python",
   "name": "python3.6"
  },
  "language_info": {
   "codemirror_mode": {
    "name": "ipython",
    "version": 3
   },
   "file_extension": ".py",
   "mimetype": "text/x-python",
   "name": "python",
   "nbconvert_exporter": "python",
   "pygments_lexer": "ipython3",
   "version": "3.6.0"
  }
 },
 "nbformat": 4,
 "nbformat_minor": 0
}
