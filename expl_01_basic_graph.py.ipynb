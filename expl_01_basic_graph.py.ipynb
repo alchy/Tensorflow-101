{
 "cells": [
  {
   "cell_type": "markdown",
   "metadata": {},
   "source": [
    "# Tensorflow 101 - for Machine Learning"
   ]
  },
  {
   "cell_type": "markdown",
   "metadata": {},
   "source": [
    "![alt text](pictures/roboti_small.jpg  \"Machine Learning\")"
   ]
  },
  {
   "cell_type": "markdown",
   "metadata": {},
   "source": [
    "Co potřebujete od systému (software) strojového učení?<br>\n",
    "- Hotové funkce pro mnoho ML algoritmů (podpora pro LSTM/RNN, CONVOLUTION).<br>\n",
    "- Škálovatelnost (large-scaling machine learning).<br>\n",
    "- Akceleraci výpoču (CPU, GPU/CUDA(no OpenCL), TPU/v1/v2)"
   ]
  },
  {
   "cell_type": "markdown",
   "metadata": {},
   "source": [
    "![alt text](pictures/tpu-first_gen.jpg \"Google’s first generation Tensor Flow chip set\")"
   ]
  },
  {
   "cell_type": "markdown",
   "metadata": {},
   "source": [
    "![alt text](pictures/TPU_BOARD.jpg \"Google’s second generation Tensor Flow chip set\")"
   ]
  },
  {
   "cell_type": "markdown",
   "metadata": {},
   "source": [
    "- Portabilitu, možnost systém provozovat na různých platformách.<br>\n",
    "- Možnost jednoduše sdílet a opakovat výzkum.<br>\n",
    "- Připravenost pro použití od výzkumu až reálný produkční provoz. "
   ]
  },
  {
   "cell_type": "markdown",
   "metadata": {},
   "source": [
    "První release Tensorflow Listopad 2015, verze 0.5.0, tým Google Brain, Apache License 2.0. Google Tensorflow požívá:\n",
    "- Google Photos Search\n",
    "- Speech Recognition\n",
    "- Google Search Ranking\n",
    "- Smart Reply (Deep Recurrent Network)\n",
    "- Google Cloud Vision API"
   ]
  },
  {
   "cell_type": "markdown",
   "metadata": {},
   "source": [
    "![alt text](pictures/smart_reply.jpg \"Smart Reply\")"
   ]
  },
  {
   "cell_type": "markdown",
   "metadata": {},
   "source": [
    "Tensorflow webová stránka:  "
   ]
  },
  {
   "cell_type": "markdown",
   "metadata": {},
   "source": [
    "![alt text](pictures/tensorflow_wepbage.jpg \"Tensorflow tutorials on Tensorflow page\")"
   ]
  },
  {
   "cell_type": "markdown",
   "metadata": {},
   "source": [
    "Core in C++ \n",
    "- Very low overhead"
   ]
  },
  {
   "cell_type": "markdown",
   "metadata": {},
   "source": [
    "Different front ends for specifying/driving the computation \n",
    "- C++ API\n",
    "- Python API (first API, December 2015)\n",
    "- GO API\n",
    "- Java API"
   ]
  },
  {
   "cell_type": "markdown",
   "metadata": {},
   "source": [
    "# Hello TensorWorld!<br>Open & Close Session, prní Graf a typ constant."
   ]
  },
  {
   "cell_type": "markdown",
   "metadata": {},
   "source": [
    "TensorFlow je open source knihovna pro numerické výpočty za pomoci takzvaných data flow grafů. Graf sestává z nodů, které jsou mezi sebou vzájemně propojeny, tyto nody reprezentují různé matematické operace nad prvkem Tensor, kdy Tensor je ‚vektor‘, který v programu definujeme jako n-rozměrné pole."
   ]
  },
  {
   "cell_type": "code",
   "execution_count": 1,
   "metadata": {
    "collapsed": true
   },
   "outputs": [],
   "source": [
    "import tensorflow as tf"
   ]
  },
  {
   "cell_type": "markdown",
   "metadata": {},
   "source": [
    "Typ constant."
   ]
  },
  {
   "cell_type": "code",
   "execution_count": 2,
   "metadata": {
    "collapsed": false
   },
   "outputs": [],
   "source": [
    "a = tf.constant(21.0)\n",
    "b = tf.constant(21.0)"
   ]
  },
  {
   "cell_type": "markdown",
   "metadata": {},
   "source": [
    "Voláním API funkcí Tensorflow Vytvoříme 'program' (Graf) pro součet dvou čísel umístěných v objektech constant. Graph Theory - An Introduction! [https://www.youtube.com/watch?v=HmQR8Xy9DeM]"
   ]
  },
  {
   "cell_type": "markdown",
   "metadata": {},
   "source": [
    "Výpočetní operace Grafu - nody."
   ]
  },
  {
   "cell_type": "code",
   "execution_count": 3,
   "metadata": {
    "collapsed": false
   },
   "outputs": [],
   "source": [
    "c = tf.add(a, b)"
   ]
  },
  {
   "cell_type": "markdown",
   "metadata": {},
   "source": [
    "Session object obaluje prostředí ve kterém probíhají výpočetní operace. Zajišťuje alokaci prostoru v paměti pro umístění Tensorů."
   ]
  },
  {
   "cell_type": "code",
   "execution_count": 4,
   "metadata": {
    "collapsed": true
   },
   "outputs": [],
   "source": [
    "sess = tf.Session()"
   ]
  },
  {
   "cell_type": "markdown",
   "metadata": {},
   "source": [
    "Pomocí funkce eval zavoláme výpočetní operaci Grafu."
   ]
  },
  {
   "cell_type": "code",
   "execution_count": 5,
   "metadata": {
    "collapsed": false
   },
   "outputs": [
    {
     "name": "stdout",
     "output_type": "stream",
     "text": [
      "42.0\n"
     ]
    }
   ],
   "source": [
    "print(c.eval(session=sess))"
   ]
  },
  {
   "cell_type": "markdown",
   "metadata": {},
   "source": [
    "Stejně tak funkci eval můžeme použít pro vypsání typu constant."
   ]
  },
  {
   "cell_type": "code",
   "execution_count": 6,
   "metadata": {
    "collapsed": false
   },
   "outputs": [
    {
     "name": "stdout",
     "output_type": "stream",
     "text": [
      "21.0\n",
      "21.0\n"
     ]
    }
   ],
   "source": [
    "print(a.eval(session=sess))\n",
    "print(b.eval(session=sess))"
   ]
  },
  {
   "cell_type": "markdown",
   "metadata": {},
   "source": [
    "Je důležité uvolnit zdroje Session."
   ]
  },
  {
   "cell_type": "code",
   "execution_count": 7,
   "metadata": {
    "collapsed": true
   },
   "outputs": [],
   "source": [
    "sess.close()"
   ]
  },
  {
   "cell_type": "markdown",
   "metadata": {
    "collapsed": true
   },
   "source": [
    "# Dvě Session, oddělení zdrojů."
   ]
  },
  {
   "cell_type": "markdown",
   "metadata": {},
   "source": [
    "Stejných Session může být více, alokace Tensorů je unikátní pro každou session. Změna hodnoty Tensoru v jedné Session neovlivní hodnotu Tensoru v jiné Session. Zpočátku však nebudete spouštění více stejných session potřebovat. Typ Variable si vysvětlíme hned v dalším Python notebooku"
   ]
  },
  {
   "cell_type": "code",
   "execution_count": 8,
   "metadata": {
    "collapsed": false
   },
   "outputs": [
    {
     "name": "stdout",
     "output_type": "stream",
     "text": [
      "--- Session 1 --- \n",
      "1\n",
      "2\n",
      "3\n",
      "--- Session 2 --- \n",
      "1\n",
      "2\n",
      "3\n",
      "--- Session 1 --- \n",
      "4\n",
      "5\n",
      "6\n"
     ]
    }
   ],
   "source": [
    "import tensorflow as tf\n",
    "\n",
    "# Constant and Variable\n",
    "one = tf.constant(1)\n",
    "counter = tf.Variable(0, name=\"counter\")\n",
    "\n",
    "# Graph operation\n",
    "result = tf.assign(counter, tf.add(counter, one))\n",
    "\n",
    "# alokovat 2x Session\n",
    "sess1 = tf.Session()\n",
    "sess2 = tf.Session()\n",
    "\n",
    "# inicializace Variable\n",
    "sess1.run(tf.global_variables_initializer())\n",
    "sess2.run(tf.global_variables_initializer())\n",
    "\n",
    "# výpočet, každá session pracuje ve vlastní alokací RAM pro Tensor\n",
    "print('--- Session 1 --- ')\n",
    "for _ in range(3):\n",
    "    print(sess1.run(result))\n",
    "print('--- Session 2 --- ')\n",
    "for _ in range(3):\n",
    "    print(sess2.run(result))\n",
    "print('--- Session 1 --- ')\n",
    "for _ in range(3):\n",
    "    print(sess1.run(result))"
   ]
  },
  {
   "cell_type": "code",
   "execution_count": null,
   "metadata": {
    "collapsed": true
   },
   "outputs": [],
   "source": []
  }
 ],
 "metadata": {
  "kernelspec": {
   "display_name": "Python 3.6",
   "language": "python",
   "name": "python3.6"
  },
  "language_info": {
   "codemirror_mode": {
    "name": "ipython",
    "version": 3
   },
   "file_extension": ".py",
   "mimetype": "text/x-python",
   "name": "python",
   "nbconvert_exporter": "python",
   "pygments_lexer": "ipython3",
   "version": "3.6.0"
  }
 },
 "nbformat": 4,
 "nbformat_minor": 0
}
