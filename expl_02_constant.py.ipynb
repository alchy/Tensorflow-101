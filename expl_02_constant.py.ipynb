{
 "cells": [
  {
   "cell_type": "markdown",
   "metadata": {},
   "source": [
    "# Typ constant, vytvoření Grafu"
   ]
  },
  {
   "cell_type": "code",
   "execution_count": 60,
   "metadata": {
    "collapsed": true
   },
   "outputs": [],
   "source": [
    "import tensorflow as tf"
   ]
  },
  {
   "cell_type": "markdown",
   "metadata": {},
   "source": [
    "Definujeme a, b jako typ constant."
   ]
  },
  {
   "cell_type": "code",
   "execution_count": 61,
   "metadata": {
    "collapsed": true
   },
   "outputs": [],
   "source": [
    "a = tf.constant(21.0)\n",
    "b = tf.constant(21.0)"
   ]
  },
  {
   "cell_type": "markdown",
   "metadata": {},
   "source": [
    "Voláním API funkcí Tensorflow vytvářáme Tensorflow Graf."
   ]
  },
  {
   "cell_type": "code",
   "execution_count": 62,
   "metadata": {
    "collapsed": true
   },
   "outputs": [],
   "source": [
    "c = tf.add(a, b)"
   ]
  },
  {
   "cell_type": "markdown",
   "metadata": {},
   "source": [
    "# Session - alokace Session, spuštění výpočtu Grafu metodou eval()"
   ]
  },
  {
   "cell_type": "markdown",
   "metadata": {},
   "source": [
    "Definice Grafu je hotová. Nyní vytvoříme Session, ve které budeme Graf spouštět. Session object obaluje prostředí ve kterém probíhají výpočetní operace. Zajišťuje alokaci prostoru v paměti pro umístění Tensorů."
   ]
  },
  {
   "cell_type": "code",
   "execution_count": 63,
   "metadata": {
    "collapsed": true
   },
   "outputs": [],
   "source": [
    "sess = tf.Session()"
   ]
  },
  {
   "cell_type": "markdown",
   "metadata": {},
   "source": [
    "Funkcí eval (evaluate) spouštíme výpočetní operaci Grafu."
   ]
  },
  {
   "cell_type": "code",
   "execution_count": 64,
   "metadata": {
    "collapsed": false
   },
   "outputs": [
    {
     "name": "stdout",
     "output_type": "stream",
     "text": [
      "42.0\n"
     ]
    }
   ],
   "source": [
    "print(c.eval(session=sess))"
   ]
  },
  {
   "cell_type": "markdown",
   "metadata": {},
   "source": [
    "Nezapomeneme uvolnit zdroje alokované pro Session."
   ]
  },
  {
   "cell_type": "code",
   "execution_count": 65,
   "metadata": {
    "collapsed": true
   },
   "outputs": [],
   "source": [
    "sess.close()"
   ]
  },
  {
   "cell_type": "markdown",
   "metadata": {},
   "source": [
    "# Kdy použít interaktivní Session"
   ]
  },
  {
   "cell_type": "code",
   "execution_count": 37,
   "metadata": {
    "collapsed": false
   },
   "outputs": [],
   "source": [
    "import tensorflow as tf\n",
    "\n",
    "a = tf.constant(21.0)\n",
    "b = tf.constant(21.0)\n",
    "\n",
    "c = tf.add(a, b)\n",
    "\n",
    "sess = tf.InteractiveSession()"
   ]
  },
  {
   "cell_type": "markdown",
   "metadata": {},
   "source": [
    "Funkce spuštěné v interaktivní Session přebírají InteractiveSession jako defaultní session ve kterém pracují a nepotřebují předávat parametr session. "
   ]
  },
  {
   "cell_type": "code",
   "execution_count": 66,
   "metadata": {
    "collapsed": false
   },
   "outputs": [
    {
     "name": "stdout",
     "output_type": "stream",
     "text": [
      "42.0\n"
     ]
    }
   ],
   "source": [
    "print(c.eval())"
   ]
  },
  {
   "cell_type": "code",
   "execution_count": 67,
   "metadata": {
    "collapsed": true
   },
   "outputs": [],
   "source": [
    "sess.close()"
   ]
  },
  {
   "cell_type": "markdown",
   "metadata": {},
   "source": [
    "# Více samostatných Session"
   ]
  },
  {
   "cell_type": "markdown",
   "metadata": {},
   "source": [
    "Session může být spuštěno více, pro Tensory každé session je alokován samostatný prostor. Změna hodnoty Tensoru v jedné Session tedy neovlivní hodnotu Tensoru v jiné Session."
   ]
  },
  {
   "cell_type": "code",
   "execution_count": 11,
   "metadata": {
    "collapsed": false
   },
   "outputs": [
    {
     "name": "stdout",
     "output_type": "stream",
     "text": [
      "--- Session 1 --- \n",
      "1\n",
      "2\n",
      "3\n",
      "--- Session 2 --- \n",
      "1\n",
      "2\n",
      "3\n",
      "--- Session 1 --- \n",
      "4\n",
      "5\n",
      "6\n"
     ]
    }
   ],
   "source": [
    "import tensorflow as tf\n",
    "\n",
    "# Constant and Variable\n",
    "one = tf.constant(1)\n",
    "counter = tf.Variable(0, name=\"counter\")\n",
    "\n",
    "# Graph operation\n",
    "result = tf.assign(counter, tf.add(counter, one))\n",
    "\n",
    "# alokovat 2x Session\n",
    "sess1 = tf.Session()\n",
    "sess2 = tf.Session()\n",
    "\n",
    "# inicializace Variable\n",
    "sess1.run(tf.global_variables_initializer())\n",
    "sess2.run(tf.global_variables_initializer())\n",
    "\n",
    "# výpočet, každá session pracuje ve vlastní alokací RAM pro Tensor\n",
    "print('--- Session 1 --- ')\n",
    "for _ in range(3):\n",
    "    print(sess1.run(result))\n",
    "print('--- Session 2 --- ')\n",
    "for _ in range(3):\n",
    "    print(sess2.run(result))\n",
    "print('--- Session 1 --- ')\n",
    "for _ in range(3):\n",
    "    print(sess1.run(result))\n",
    "    \n",
    "sess1.close()\n",
    "sess2.close()"
   ]
  },
  {
   "cell_type": "markdown",
   "metadata": {},
   "source": [
    "# Spuštění výpočtu nad Grafem metodou run()"
   ]
  },
  {
   "cell_type": "markdown",
   "metadata": {},
   "source": [
    "Tento způsob již známe:"
   ]
  },
  {
   "cell_type": "code",
   "execution_count": 40,
   "metadata": {
    "collapsed": false
   },
   "outputs": [
    {
     "name": "stdout",
     "output_type": "stream",
     "text": [
      "42.0 63.0\n"
     ]
    }
   ],
   "source": [
    "import tensorflow as tf\n",
    "\n",
    "a = tf.constant(21.0)\n",
    "b = tf.constant(21.0)\n",
    "\n",
    "c = tf.add(a, b)\n",
    "d = tf.add(b, c)\n",
    "\n",
    "sess = tf.Session()\n",
    "\n",
    "res_c = c.eval(session=sess)\n",
    "res_d = d.eval(session=sess)\n",
    "\n",
    "print(res_c, res_d)\n",
    "sess.close()"
   ]
  },
  {
   "cell_type": "markdown",
   "metadata": {},
   "source": [
    "Při použití metody run() narozdíl od předchozí ukázky proběhne spuštění výpočtu nad grafem pouze jednou."
   ]
  },
  {
   "cell_type": "code",
   "execution_count": 41,
   "metadata": {
    "collapsed": false
   },
   "outputs": [
    {
     "name": "stdout",
     "output_type": "stream",
     "text": [
      "42.0 63.0\n"
     ]
    }
   ],
   "source": [
    "import tensorflow as tf\n",
    "\n",
    "a = tf.constant(21.0)\n",
    "b = tf.constant(21.0)\n",
    "\n",
    "c = tf.add(a, b)\n",
    "d = tf.add(b, c)\n",
    "\n",
    "sess = tf.Session()\n",
    "\n",
    "res_c, res_d = sess.run([c, d])\n",
    "\n",
    "print(res_c, res_d)\n",
    "sess.close()"
   ]
  },
  {
   "cell_type": "markdown",
   "metadata": {},
   "source": [
    "# Výpis operací Grafu"
   ]
  },
  {
   "cell_type": "markdown",
   "metadata": {},
   "source": [
    "Uzavření Session metodou close nijak neovlivní existenci Grafu v paměti, pouze Tensorů. V paměti jsou stále uloženy všechny předchozí definice operací Grafu."
   ]
  },
  {
   "cell_type": "code",
   "execution_count": 42,
   "metadata": {
    "collapsed": false
   },
   "outputs": [
    {
     "data": {
      "text/plain": [
       "[<tf.Operation 'Const' type=Const>,\n",
       " <tf.Operation 'Const_1' type=Const>,\n",
       " <tf.Operation 'Reshape/shape' type=Const>,\n",
       " <tf.Operation 'Reshape' type=Reshape>,\n",
       " <tf.Operation 'Const_2' type=Const>,\n",
       " <tf.Operation 'Reshape_1/shape' type=Const>,\n",
       " <tf.Operation 'Reshape_1' type=Reshape>,\n",
       " <tf.Operation 'Const_3' type=Const>,\n",
       " <tf.Operation 'Reshape_2/shape' type=Const>,\n",
       " <tf.Operation 'Reshape_2' type=Reshape>,\n",
       " <tf.Operation 'Const_4' type=Const>,\n",
       " <tf.Operation 'Const_5' type=Const>,\n",
       " <tf.Operation 'Add' type=Add>,\n",
       " <tf.Operation 'Const_6' type=Const>,\n",
       " <tf.Operation 'Const_7' type=Const>,\n",
       " <tf.Operation 'Add_1' type=Add>,\n",
       " <tf.Operation 'Const_8' type=Const>,\n",
       " <tf.Operation 'Const_9' type=Const>,\n",
       " <tf.Operation 'Add_2' type=Add>,\n",
       " <tf.Operation 'Add_3' type=Add>,\n",
       " <tf.Operation 'Const_10' type=Const>,\n",
       " <tf.Operation 'Const_11' type=Const>,\n",
       " <tf.Operation 'Add_4' type=Add>,\n",
       " <tf.Operation 'Add_5' type=Add>]"
      ]
     },
     "execution_count": 42,
     "metadata": {},
     "output_type": "execute_result"
    }
   ],
   "source": [
    "sess.graph.get_operations()"
   ]
  },
  {
   "cell_type": "markdown",
   "metadata": {},
   "source": [
    "# Typ constant - další operace s typem constant"
   ]
  },
  {
   "cell_type": "code",
   "execution_count": 58,
   "metadata": {
    "collapsed": false
   },
   "outputs": [
    {
     "name": "stdout",
     "output_type": "stream",
     "text": [
      "(2, 1)\n",
      "[[ 21.]\n",
      " [ 21.]]\n"
     ]
    }
   ],
   "source": [
    "import tensorflow as tf\n",
    "\n",
    "a = tf.constant([[21.0], [21.0]])\n",
    "print(a.get_shape())\n",
    "\n",
    "sess = tf.InteractiveSession()\n",
    "print(a.eval())\n",
    "sess.close()"
   ]
  },
  {
   "cell_type": "code",
   "execution_count": 59,
   "metadata": {
    "collapsed": false
   },
   "outputs": [
    {
     "name": "stdout",
     "output_type": "stream",
     "text": [
      "(1, 2)\n",
      "[[ 21.  21.]]\n"
     ]
    }
   ],
   "source": [
    "import tensorflow as tf\n",
    "\n",
    "a = tf.constant([[21.0], [21.0]])\n",
    "b = tf.reshape(a, shape=[1, -1])\n",
    "print(b.get_shape())\n",
    "\n",
    "sess = tf.InteractiveSession()\n",
    "print(b.eval())\n",
    "sess.close()"
   ]
  },
  {
   "cell_type": "code",
   "execution_count": null,
   "metadata": {
    "collapsed": true
   },
   "outputs": [],
   "source": []
  }
 ],
 "metadata": {
  "kernelspec": {
   "display_name": "Python 3.6",
   "language": "python",
   "name": "python3.6"
  },
  "language_info": {
   "codemirror_mode": {
    "name": "ipython",
    "version": 3
   },
   "file_extension": ".py",
   "mimetype": "text/x-python",
   "name": "python",
   "nbconvert_exporter": "python",
   "pygments_lexer": "ipython3",
   "version": "3.6.0"
  }
 },
 "nbformat": 4,
 "nbformat_minor": 0
}
