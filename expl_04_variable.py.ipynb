{
 "cells": [
  {
   "cell_type": "markdown",
   "metadata": {},
   "source": [
    "# Typ Variable (proměnná)"
   ]
  },
  {
   "cell_type": "markdown",
   "metadata": {},
   "source": [
    "Typ variable je specifický kontejner pro uchování Tensorů, které mohou být v průběhu procesu učení měněny optimalizačními funkcemi Tensorflow. Tensor variable může být:"
   ]
  },
  {
   "cell_type": "markdown",
   "metadata": {},
   "source": [
    "- jediná hodnota - skalár\n",
    "- jednorozměrné pole hodnot - vektor\n",
    "- vícerozměrné pole hodnot - matice"
   ]
  },
  {
   "cell_type": "code",
   "execution_count": 1,
   "metadata": {
    "collapsed": false
   },
   "outputs": [],
   "source": [
    "import tensorflow as tf"
   ]
  },
  {
   "cell_type": "markdown",
   "metadata": {},
   "source": [
    "Tensor variable může být definován konstruktorem Variable například takto:"
   ]
  },
  {
   "cell_type": "code",
   "execution_count": 2,
   "metadata": {
    "collapsed": false
   },
   "outputs": [],
   "source": [
    "a = tf.Variable(42.0, name=\"skalar_a\")\n",
    "b = tf.Variable((1, 2, 3, 4), name=\"vektor_b\")\n",
    "c = tf.Variable(tf.random_uniform([3, 3], -1, 1), name=\"matice_c\") "
   ]
  },
  {
   "cell_type": "markdown",
   "metadata": {},
   "source": [
    "'jméno proměnné' tensor jednoznačně identifikuje. Pomocí jména proměnné je také možné se na proměnnou odkazovat. Pokud jméno proměnné není definováno, Tensorflow přiřadí proměnné unikátní jméno."
   ]
  },
  {
   "cell_type": "code",
   "execution_count": 3,
   "metadata": {
    "collapsed": false
   },
   "outputs": [
    {
     "name": "stdout",
     "output_type": "stream",
     "text": [
      "skalar_a:0\n",
      "vektor_b:0\n",
      "matice_c:0\n"
     ]
    }
   ],
   "source": [
    "for tf_trainable in tf.trainable_variables():\n",
    "    print(tf_trainable.name)"
   ]
  },
  {
   "cell_type": "markdown",
   "metadata": {},
   "source": [
    "Konstruktor tf.Variable vytváří nový tensor variable při každém svém volání. V případě, že variable se stejným jménem již existue, pak přidává ke jménu variable unikátní suffix - vytváří nový tensor."
   ]
  },
  {
   "cell_type": "code",
   "execution_count": 4,
   "metadata": {
    "collapsed": true
   },
   "outputs": [],
   "source": [
    "a_pokus = tf.Variable(42.0, name=\"skalar_a\")"
   ]
  },
  {
   "cell_type": "code",
   "execution_count": 5,
   "metadata": {
    "collapsed": false
   },
   "outputs": [
    {
     "data": {
      "text/plain": [
       "False"
      ]
     },
     "execution_count": 5,
     "metadata": {},
     "output_type": "execute_result"
    }
   ],
   "source": [
    "a is a_pokus"
   ]
  },
  {
   "cell_type": "markdown",
   "metadata": {},
   "source": [
    "Všimněte si, že do seznamu variable přibyl další tensor:"
   ]
  },
  {
   "cell_type": "code",
   "execution_count": 6,
   "metadata": {
    "collapsed": false
   },
   "outputs": [
    {
     "name": "stdout",
     "output_type": "stream",
     "text": [
      "skalar_a:0\n",
      "skalar_a_1:0\n"
     ]
    }
   ],
   "source": [
    "for tf_trainable in tf.trainable_variables():\n",
    "    if tf_trainable.name.split('_')[0] == 'skalar':\n",
    "        print(tf_trainable.name)"
   ]
  },
  {
   "cell_type": "markdown",
   "metadata": {},
   "source": [
    "Funkce get_shape slouží pro získání informace o 'rozměru' tensoru. Na příkladě uvedeném níže je proměnná (a) skalár; (b) vektor; (c) matice. "
   ]
  },
  {
   "cell_type": "code",
   "execution_count": 7,
   "metadata": {
    "collapsed": false
   },
   "outputs": [
    {
     "name": "stdout",
     "output_type": "stream",
     "text": [
      "(a) shape:  ()\n",
      "(b) shape:  (4,)\n",
      "(c) shape:  (3, 3)\n"
     ]
    }
   ],
   "source": [
    "print('(a) shape: ', a.get_shape())\n",
    "print('(b) shape: ', b.get_shape())\n",
    "print('(c) shape: ', c.get_shape())"
   ]
  },
  {
   "cell_type": "markdown",
   "metadata": {},
   "source": [
    "Vytvářet tensory typu variable je možné též pomocí funkce tf.get_variable. Povinným parametrem této funkce je 'jméno proměnné'. "
   ]
  },
  {
   "cell_type": "code",
   "execution_count": 8,
   "metadata": {
    "collapsed": false
   },
   "outputs": [],
   "source": [
    "x = tf.get_variable(\"var_x\", shape=(), initializer=tf.zeros_initializer())\n",
    "y = tf.get_variable(\"var_y\", [4], initializer=tf.constant_initializer(0.0))\n",
    "z = tf.get_variable(\"var_z\", [3, 3], initializer=tf.random_normal_initializer())"
   ]
  },
  {
   "cell_type": "code",
   "execution_count": 9,
   "metadata": {
    "collapsed": false
   },
   "outputs": [
    {
     "name": "stdout",
     "output_type": "stream",
     "text": [
      "x shape:  ()\n",
      "y shape:  (4,)\n",
      "z shape:  (3, 3)\n"
     ]
    }
   ],
   "source": [
    "print('x shape: ', x.get_shape())\n",
    "print('y shape: ', y.get_shape())\n",
    "print('z shape: ', z.get_shape())"
   ]
  },
  {
   "cell_type": "markdown",
   "metadata": {},
   "source": [
    "Pokud je tensor typu variable vytvářen metodou get_variable(), pak pro něj musí být použito unikátní jméno, jinak je  generována výjimka typu ValueError."
   ]
  },
  {
   "cell_type": "code",
   "execution_count": 10,
   "metadata": {
    "collapsed": false
   },
   "outputs": [
    {
     "name": "stdout",
     "output_type": "stream",
     "text": [
      "[!] tensor již vytvořen\n"
     ]
    }
   ],
   "source": [
    "try:\n",
    "    x = tf.get_variable(\"var_x\", shape=(), initializer=tf.zeros_initializer())\n",
    "except ValueError:\n",
    "    print('[!] tensor již vytvořen')"
   ]
  },
  {
   "cell_type": "markdown",
   "metadata": {},
   "source": [
    "Pokud nechceme, aby byl při procesu učení tensor typu variable modifikován, pak v definici variable použijeme parametr <i>trainable=False</i>."
   ]
  },
  {
   "cell_type": "code",
   "execution_count": 11,
   "metadata": {
    "collapsed": true
   },
   "outputs": [],
   "source": [
    "d = tf.Variable(42.0, trainable=False)"
   ]
  },
  {
   "cell_type": "markdown",
   "metadata": {},
   "source": [
    "# Typ Variable - inicializace, metoda global_variables_initializer()"
   ]
  },
  {
   "cell_type": "markdown",
   "metadata": {},
   "source": [
    "Vytvoříme novou Session: "
   ]
  },
  {
   "cell_type": "code",
   "execution_count": 13,
   "metadata": {
    "collapsed": true
   },
   "outputs": [],
   "source": [
    "sess = tf.Session()"
   ]
  },
  {
   "cell_type": "markdown",
   "metadata": {},
   "source": [
    "U tensoru typu variable vždy potřebujeme provést počáteční inicializaci. V rámci inicializace budou našim tensorům typu variable přiřazeny počáteční hodnoty. "
   ]
  },
  {
   "cell_type": "code",
   "execution_count": 14,
   "metadata": {
    "collapsed": false
   },
   "outputs": [],
   "source": [
    "sess.run(tf.global_variables_initializer())"
   ]
  },
  {
   "cell_type": "code",
   "execution_count": 15,
   "metadata": {
    "collapsed": false
   },
   "outputs": [
    {
     "name": "stdout",
     "output_type": "stream",
     "text": [
      "(a): \n",
      " 42.0\n",
      "(b): \n",
      " [1 2 3 4]\n",
      "(c): \n",
      " [[-0.12225366  0.58992791  0.85943103]\n",
      " [ 0.26921201  0.76028442  0.38556504]\n",
      " [ 0.74928355 -0.03603482 -0.37308383]]\n"
     ]
    }
   ],
   "source": [
    "print('(a): \\n', a.eval(session=sess))\n",
    "print('(b): \\n', b.eval(session=sess))\n",
    "print('(c): \\n', c.eval(session=sess))"
   ]
  },
  {
   "cell_type": "code",
   "execution_count": 16,
   "metadata": {
    "collapsed": false
   },
   "outputs": [
    {
     "name": "stdout",
     "output_type": "stream",
     "text": [
      "(x): \n",
      " 0.0\n",
      "(y): \n",
      " [ 0.  0.  0.  0.]\n",
      "(z): \n",
      " [[ 0.01263967  0.13835022 -1.04882109]\n",
      " [ 1.68996358 -0.22906324  1.12023926]\n",
      " [ 0.02387796 -0.54776245  0.25963941]]\n"
     ]
    }
   ],
   "source": [
    "print('(x): \\n', x.eval(session=sess))\n",
    "print('(y): \\n', y.eval(session=sess))\n",
    "print('(z): \\n', z.eval(session=sess))"
   ]
  },
  {
   "cell_type": "code",
   "execution_count": 17,
   "metadata": {
    "collapsed": true
   },
   "outputs": [],
   "source": [
    "sess.close()"
   ]
  },
  {
   "cell_type": "markdown",
   "metadata": {},
   "source": [
    "# Typ Variable - inicializace, metoda initializer.run()"
   ]
  },
  {
   "cell_type": "markdown",
   "metadata": {},
   "source": [
    "Metoda initializer.run() další způsob, jak provést inicializaci tensoru variable."
   ]
  },
  {
   "cell_type": "code",
   "execution_count": 18,
   "metadata": {
    "collapsed": true
   },
   "outputs": [],
   "source": [
    "sess = tf.Session()"
   ]
  },
  {
   "cell_type": "code",
   "execution_count": 19,
   "metadata": {
    "collapsed": false
   },
   "outputs": [],
   "source": [
    "a.initializer.run(session=sess)\n",
    "b.initializer.run(session=sess)\n",
    "c.initializer.run(session=sess)"
   ]
  },
  {
   "cell_type": "code",
   "execution_count": 20,
   "metadata": {
    "collapsed": false
   },
   "outputs": [
    {
     "name": "stdout",
     "output_type": "stream",
     "text": [
      "(a): \n",
      " 42.0\n",
      "(b): \n",
      " [1 2 3 4]\n",
      "(c): \n",
      " [[-0.47946572 -0.79132104 -0.98113155]\n",
      " [-0.10050797 -0.92390656  0.04120588]\n",
      " [ 0.58278131  0.46412563  0.90571856]]\n"
     ]
    }
   ],
   "source": [
    "print('(a): \\n', a.eval(session=sess))\n",
    "print('(b): \\n', b.eval(session=sess))\n",
    "print('(c): \\n', c.eval(session=sess))"
   ]
  },
  {
   "cell_type": "code",
   "execution_count": 21,
   "metadata": {
    "collapsed": true
   },
   "outputs": [],
   "source": [
    "x.initializer.run(session=sess)\n",
    "y.initializer.run(session=sess)\n",
    "z.initializer.run(session=sess)"
   ]
  },
  {
   "cell_type": "code",
   "execution_count": 22,
   "metadata": {
    "collapsed": false
   },
   "outputs": [
    {
     "name": "stdout",
     "output_type": "stream",
     "text": [
      "(x): \n",
      " 0.0\n",
      "(y): \n",
      " [ 0.  0.  0.  0.]\n",
      "(z): \n",
      " [[ 2.06079602  0.1276243   0.6177547 ]\n",
      " [-0.23544633  0.76155406  0.19937675]\n",
      " [ 0.11435235 -1.97616291  0.56857663]]\n"
     ]
    }
   ],
   "source": [
    "print('(x): \\n', x.eval(session=sess))\n",
    "print('(y): \\n', y.eval(session=sess))\n",
    "print('(z): \\n', z.eval(session=sess))"
   ]
  },
  {
   "cell_type": "code",
   "execution_count": 23,
   "metadata": {
    "collapsed": true
   },
   "outputs": [],
   "source": [
    "sess.close()"
   ]
  },
  {
   "cell_type": "markdown",
   "metadata": {},
   "source": [
    "# Typ Variable - další operace"
   ]
  },
  {
   "cell_type": "markdown",
   "metadata": {},
   "source": [
    "Přiřazení hodnoty (setter) proměnné (x)."
   ]
  },
  {
   "cell_type": "code",
   "execution_count": 24,
   "metadata": {
    "collapsed": false
   },
   "outputs": [],
   "source": [
    "assignment = x.assign(42)"
   ]
  },
  {
   "cell_type": "markdown",
   "metadata": {},
   "source": [
    "Operace inkrement a dekrement nad tensorem typu variable:"
   ]
  },
  {
   "cell_type": "code",
   "execution_count": 25,
   "metadata": {
    "collapsed": true
   },
   "outputs": [],
   "source": [
    "increment_x = x.assign_add(1)\n",
    "decrement_x = x.assign_sub(1)"
   ]
  },
  {
   "cell_type": "markdown",
   "metadata": {},
   "source": [
    "Operace přiřazení, inkrement a dekrement musíme volat z platné session, např.:"
   ]
  },
  {
   "cell_type": "code",
   "execution_count": 26,
   "metadata": {
    "collapsed": false
   },
   "outputs": [
    {
     "name": "stdout",
     "output_type": "stream",
     "text": [
      "(x) init: \n",
      " 0.0\n",
      "(x) assignment: \n",
      " 42.0\n",
      "(x) increment: \n",
      " 43.0\n",
      "(x) increment: \n",
      " 42.0\n"
     ]
    }
   ],
   "source": [
    "sess = tf.Session()\n",
    "\n",
    "sess.run(tf.global_variables_initializer())\n",
    "print('(x) init: \\n', x.eval(session=sess))\n",
    "\n",
    "sess.run(assignment)\n",
    "print('(x) assignment: \\n', x.eval(session=sess))\n",
    "\n",
    "sess.run(increment_x)\n",
    "print('(x) increment: \\n', x.eval(session=sess))\n",
    "\n",
    "sess.run(decrement_x)\n",
    "print('(x) increment: \\n', x.eval(session=sess))\n",
    "\n",
    "sess.close()"
   ]
  },
  {
   "cell_type": "markdown",
   "metadata": {},
   "source": [
    "Uložení hodnot tensoru typu variable: (TBD)"
   ]
  },
  {
   "cell_type": "markdown",
   "metadata": {},
   "source": [
    "Na Tensor typu Variable nemůže být použita operace reshape, např. n.reshape(n, [2, 6])."
   ]
  },
  {
   "cell_type": "markdown",
   "metadata": {},
   "source": [
    "# Odkazy:"
   ]
  },
  {
   "cell_type": "markdown",
   "metadata": {},
   "source": [
    "https://www.tensorflow.org/programmers_guide/variables"
   ]
  }
 ],
 "metadata": {
  "kernelspec": {
   "display_name": "Python 3.6",
   "language": "python",
   "name": "python3.6"
  },
  "language_info": {
   "codemirror_mode": {
    "name": "ipython",
    "version": 3
   },
   "file_extension": ".py",
   "mimetype": "text/x-python",
   "name": "python",
   "nbconvert_exporter": "python",
   "pygments_lexer": "ipython3",
   "version": "3.6.0"
  }
 },
 "nbformat": 4,
 "nbformat_minor": 0
}
