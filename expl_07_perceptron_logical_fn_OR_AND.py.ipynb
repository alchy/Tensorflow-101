{
 "cells": [
  {
   "cell_type": "markdown",
   "metadata": {},
   "source": [
    "# Perceptron řeší operace OR, AND"
   ]
  },
  {
   "cell_type": "code",
   "execution_count": 1,
   "metadata": {
    "collapsed": true
   },
   "outputs": [],
   "source": [
    "import tensorflow as tf\n",
    "import numpy as np\n",
    "import matplotlib.pyplot as plt"
   ]
  },
  {
   "cell_type": "markdown",
   "metadata": {},
   "source": [
    "![alt text](pictures/logical_fn_classification.png \"AND, OR, XOR classification\")"
   ]
  },
  {
   "cell_type": "code",
   "execution_count": 13,
   "metadata": {
    "collapsed": true
   },
   "outputs": [],
   "source": [
    "def show_csf_plot():\n",
    "    for point_y in np.arange(0., 1., 0.05):\n",
    "        for point_x in np.arange(0., 1., 0.05):\n",
    "            if np.round(sess.run(out, feed_dict={inputs: [[point_x], [point_y]]})):\n",
    "                plt.plot(point_x, point_y, marker='o', markersize=8, color=\"green\")\n",
    "            else:\n",
    "                plt.plot(point_x, point_y, marker='x', markersize=8, color=\"red\")\n",
    "    plt.show()"
   ]
  },
  {
   "cell_type": "markdown",
   "metadata": {},
   "source": [
    "Funkce pro vykreslení klasifikace Perceptronu na grafu s osou X[0..1], Y[0..1]"
   ]
  },
  {
   "cell_type": "markdown",
   "metadata": {},
   "source": [
    "![alt text](pictures/artificial_neuron.png  \"https://inspirehep.net/record/1300728/plots\")"
   ]
  },
  {
   "cell_type": "code",
   "execution_count": 3,
   "metadata": {
    "collapsed": true
   },
   "outputs": [],
   "source": [
    "nr_inputs_m = 2"
   ]
  },
  {
   "cell_type": "markdown",
   "metadata": {},
   "source": [
    "Perceptron bude mít dva vstupy."
   ]
  },
  {
   "cell_type": "code",
   "execution_count": 4,
   "metadata": {
    "collapsed": true
   },
   "outputs": [],
   "source": [
    "with tf.name_scope('inputs'):\n",
    "    inputs = tf.placeholder(tf.float32, [nr_inputs_m, 1])\n",
    "\n",
    "with tf.name_scope('target'):\n",
    "    target = tf.placeholder(tf.float32, [1])"
   ]
  },
  {
   "cell_type": "markdown",
   "metadata": {},
   "source": [
    "Vstupy jako placeholder 'inputs' a výsledek, který chceme Perceptron naučit jako 'target'."
   ]
  },
  {
   "cell_type": "code",
   "execution_count": 5,
   "metadata": {
    "collapsed": false
   },
   "outputs": [],
   "source": [
    "with tf.name_scope('perceptron'):\n",
    "\n",
    "    with tf.name_scope('Weights'):\n",
    "        weights = tf.Variable(\n",
    "            tf.random_uniform([nr_inputs_m, 1], -1, 1), name=\"W\") \n",
    "        \n",
    "    with tf.name_scope('bias'):\n",
    "        bias = tf.Variable(\n",
    "            tf.random_uniform([1], -1, 1), name=\"bias\")\n",
    "\n",
    "    with tf.name_scope('perceptron_fn'):\n",
    "        out = tf.sigmoid(tf.add(tf.reduce_sum(\n",
    "            tf.multiply(inputs, weights)), bias))"
   ]
  },
  {
   "cell_type": "markdown",
   "metadata": {},
   "source": [
    "Jsme uvnitř Perceptronu. Je zde k vidění vytvoření Tensorů pro W a b [pole], dále funkce Perceptronu [suma(inputs x weights) + bias] a aktivační funkce. "
   ]
  },
  {
   "cell_type": "code",
   "execution_count": 6,
   "metadata": {
    "collapsed": true
   },
   "outputs": [],
   "source": [
    "with tf.name_scope('training'):\n",
    "\n",
    "    with tf.name_scope(\"cost_fn\") as scope:\n",
    "        #cost_function = tf.reduce_sum(out - target) ** 2\n",
    "        cost_function = (out - target) ** 2\n",
    "\n",
    "    train = tf.train.AdamOptimizer().minimize(cost_function)"
   ]
  },
  {
   "cell_type": "markdown",
   "metadata": {},
   "source": [
    "Ve scope training-u definujeme cost funkci, podle které se řídi optimizer, použil jsem místo GradientDescentOptimizer Adam optimizer, který v tomto případě rychleji konverguje k výsledku. *Adam: A Method for Stochastic Optimization https://arxiv.org/abs/1412.6980"
   ]
  },
  {
   "cell_type": "code",
   "execution_count": 7,
   "metadata": {
    "collapsed": true
   },
   "outputs": [],
   "source": [
    "    # OR\n",
    "    #input_feed = [[1.0], [1.0]], [[0.0], [1.0]], [[1.0], [0.0]], [[0.0], [0.0]]\n",
    "    #target_feed = [1.0], [1.0], [1.0], [0.0]\n",
    "\n",
    "    # AND\n",
    "    input_feed = [[1.0], [1.0]], [[0.0], [1.0]], [[1.0], [0.0]], [[0.0], [0.0]]\n",
    "    target_feed = [1.0], [0.0], [0.0], [0.0]\n",
    "    \n",
    "    # XOR\n",
    "    #input_feed = [[0.0], [0.0]], [[0.0], [1.0]], [[1.0], [0.0]], [[1.0], [1.0]]\n",
    "    #target_feed = [0], [1], [1], [0]"
   ]
  },
  {
   "cell_type": "markdown",
   "metadata": {},
   "source": [
    "Na vyzkoušení jsem připravil tři varianty, s jednou z nich se Perceptron nevypořádá, protože pokud je zapojen samostatně, má pouze omezený potenciál klasifikace. Mj. na tento nedostatek měli upozornit Minsky & Papert v publikaci Perceptrons, 1969. *<i>One of Minsky and Papert's most discouraging results shows that a single layer perceptron cannot represent a simple exclusive XOR function.<i> - [An Introduction to Neural Networks, Ben Krose a Patrick van der Smagt, 1996]"
   ]
  },
  {
   "cell_type": "code",
   "execution_count": 8,
   "metadata": {
    "collapsed": false
   },
   "outputs": [
    {
     "name": "stdout",
     "output_type": "stream",
     "text": [
      "epoch:  0  cost:  [ 0.84988213]\n"
     ]
    },
    {
     "data": {
      "image/png": "[encoded data removed]",
      "text/plain": [
       "<matplotlib.figure.Figure at 0x7f186e9c6a58>"
      ]
     },
     "metadata": {},
     "output_type": "display_data"
    },
    {
     "name": "stdout",
     "output_type": "stream",
     "text": [
      "epoch:  5000  cost:  [ 0.13279861]\n"
     ]
    },
    {
     "data": {
      "image/png": "[encoded data removed]",
      "text/plain": [
       "<matplotlib.figure.Figure at 0x7f1865165748>"
      ]
     },
     "metadata": {},
     "output_type": "display_data"
    },
    {
     "name": "stdout",
     "output_type": "stream",
     "text": [
      "epoch:  10000  cost:  [ 0.02419661]\n"
     ]
    },
    {
     "data": {
      "image/png": "[encoded data removed]",
      "text/plain": [
       "<matplotlib.figure.Figure at 0x7f1864dac668>"
      ]
     },
     "metadata": {},
     "output_type": "display_data"
    },
    {
     "name": "stdout",
     "output_type": "stream",
     "text": [
      "epoch:  15000  cost:  [ 0.0038433]\n"
     ]
    },
    {
     "data": {
      "image/png": "[encoded data removed]",
      "text/plain": [
       "<matplotlib.figure.Figure at 0x7f1864dac240>"
      ]
     },
     "metadata": {},
     "output_type": "display_data"
    },
    {
     "name": "stdout",
     "output_type": "stream",
     "text": [
      "------ result ------\n",
      "0 fn 1 =  [ 0.]\n",
      "1 fn 0 =  [ 0.]\n",
      "0 fn 0 =  [ 0.]\n",
      "1 fn 1 =  [ 1.]\n"
     ]
    },
    {
     "data": {
      "image/png": "[encoded data removed]",
      "text/plain": [
       "<matplotlib.figure.Figure at 0x7f1864f0e898>"
      ]
     },
     "metadata": {},
     "output_type": "display_data"
    }
   ],
   "source": [
    "with tf.Session() as sess:\n",
    "    sess.run(tf.global_variables_initializer())\n",
    "    writer = tf.summary.FileWriter(\"./tensorboard_example\", sess.graph)\n",
    "\n",
    "    cost_function_result = 1000.0\n",
    "    training_epoch = -1\n",
    "\n",
    "    while cost_function_result > 0.001:\n",
    "        training_epoch += 1\n",
    "\n",
    "        cost_function_result = .0 \n",
    "        for x, y in zip(input_feed, target_feed):\n",
    "            _, cost = sess.run([train, cost_function],\n",
    "                feed_dict={inputs: x, target: y})\n",
    "            cost_function_result = cost_function_result + cost\n",
    "\n",
    "        if training_epoch % 5000 == 0:\n",
    "            print('epoch: ', training_epoch, ' cost: ', cost_function_result)\n",
    "            show_csf_plot()\n",
    "\n",
    "    print('------ result ------')\n",
    "    print(\"0 fn 1 = \", np.round(sess.run(out, feed_dict={inputs: [[0.0], [1.0]]})))\n",
    "    print(\"1 fn 0 = \", np.round(sess.run(out, feed_dict={inputs: [[1.0], [0.0]]})))\n",
    "    print(\"0 fn 0 = \", np.round(sess.run(out, feed_dict={inputs: [[0.0], [0.0]]})))\n",
    "    print(\"1 fn 1 = \", np.round(sess.run(out, feed_dict={inputs: [[1.0], [1.0]]})))\n",
    "    show_csf_plot()"
   ]
  },
  {
   "cell_type": "code",
   "execution_count": null,
   "metadata": {
    "collapsed": true
   },
   "outputs": [],
   "source": []
  }
 ],
 "metadata": {
  "kernelspec": {
   "display_name": "Python 3.6",
   "language": "python",
   "name": "python3.6"
  },
  "language_info": {
   "codemirror_mode": {
    "name": "ipython",
    "version": 3
   },
   "file_extension": ".py",
   "mimetype": "text/x-python",
   "name": "python",
   "nbconvert_exporter": "python",
   "pygments_lexer": "ipython3",
   "version": "3.6.0"
  }
 },
 "nbformat": 4,
 "nbformat_minor": 0
}
