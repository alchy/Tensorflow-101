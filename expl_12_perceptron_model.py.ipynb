{
 "cells": [
  {
   "cell_type": "markdown",
   "metadata": {},
   "source": [
    "# Počítačový model Neuronu - Perceptron (popsaný tf Grafem)"
   ]
  },
  {
   "cell_type": "markdown",
   "metadata": {},
   "source": [
    "![alt text](pictures/artificial_neuron.png \"https://inspirehep.net/record/1300728/plots\")"
   ]
  },
  {
   "cell_type": "code",
   "execution_count": 1,
   "metadata": {
    "collapsed": true
   },
   "outputs": [],
   "source": [
    "import tensorflow as tf"
   ]
  },
  {
   "cell_type": "markdown",
   "metadata": {},
   "source": [
    "Náš první perceptron bude mít tři vstupy:"
   ]
  },
  {
   "cell_type": "code",
   "execution_count": 2,
   "metadata": {
    "collapsed": true
   },
   "outputs": [],
   "source": [
    "nr_inputs = 3"
   ]
  },
  {
   "cell_type": "code",
   "execution_count": 3,
   "metadata": {
    "collapsed": true
   },
   "outputs": [],
   "source": [
    "with tf.name_scope('inputs'):\n",
    "    neuron_inputs = tf.placeholder(tf.float32, [nr_inputs, 1], name='input')"
   ]
  },
  {
   "cell_type": "code",
   "execution_count": 4,
   "metadata": {
    "collapsed": true
   },
   "outputs": [],
   "source": [
    "with tf.name_scope('neuron'):\n",
    "\n",
    "    with tf.name_scope('Weights'):\n",
    "        neuron_weights = tf.placeholder(tf.float32, [nr_inputs, 1], name='Weight')\n",
    "\n",
    "    with tf.name_scope('bias'):\n",
    "        neuron_bias = tf.placeholder(tf.float32, [1], name='bias')\n",
    "\n",
    "    with tf.name_scope('neuron_fn'):\n",
    "        neuron_fn1_out = tf.multiply(neuron_inputs, neuron_weights, name='Wx')\n",
    "        neuron_fn2 = tf.reduce_sum(neuron_fn1_out)\n",
    "        neuron_fn3 = tf.add(neuron_fn2, neuron_bias)\n",
    "        neuron_out = tf.sigmoid(neuron_fn3)"
   ]
  },
  {
   "cell_type": "code",
   "execution_count": 5,
   "metadata": {
    "collapsed": false
   },
   "outputs": [
    {
     "name": "stdout",
     "output_type": "stream",
     "text": [
      "[ 0.90720707]\n"
     ]
    }
   ],
   "source": [
    "with tf.Session() as sess:\n",
    "    writer = tf.summary.FileWriter(\"./tensorboard_example\", sess.graph)\n",
    "    neuron_inputs_feed =  [[0.8], [0.8], [0.8]]\n",
    "    neuron_weights_feed = [[0.1], [0.5], [1.0]]\n",
    "    neuron_bias_feed = [1.0]\n",
    "                            \n",
    "    res_neuron_out = sess.run(neuron_out,\n",
    "        feed_dict={neuron_inputs: neuron_inputs_feed,\n",
    "                   neuron_weights: neuron_weights_feed,\n",
    "                   neuron_bias: neuron_bias_feed})\n",
    "\n",
    "    print(res_neuron_out)"
   ]
  },
  {
   "cell_type": "markdown",
   "metadata": {},
   "source": [
    "tensorboard.exe --logdir=\".\\tensorboard_example\" --port 9000"
   ]
  }
 ],
 "metadata": {
  "kernelspec": {
   "display_name": "Python 3.6",
   "language": "python",
   "name": "python3.6"
  },
  "language_info": {
   "codemirror_mode": {
    "name": "ipython",
    "version": 3
   },
   "file_extension": ".py",
   "mimetype": "text/x-python",
   "name": "python",
   "nbconvert_exporter": "python",
   "pygments_lexer": "ipython3",
   "version": "3.6.0"
  }
 },
 "nbformat": 4,
 "nbformat_minor": 0
}
