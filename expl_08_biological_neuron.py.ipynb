{
 "cells": [
  {
   "cell_type": "markdown",
   "metadata": {},
   "source": [
    "# Neuron"
   ]
  },
  {
   "cell_type": "markdown",
   "metadata": {},
   "source": [
    "<b>dendrity</b>"
   ]
  },
  {
   "cell_type": "markdown",
   "metadata": {},
   "source": [
    "krátké výběžky buněčného těla a spolu s buněčným tělem představují vstupní část neuronu (příjímají signály, např. ve formě neurotransmiterů)"
   ]
  },
  {
   "cell_type": "markdown",
   "metadata": {},
   "source": [
    "<b>buněčné tělo (soma)</b>"
   ]
  },
  {
   "cell_type": "markdown",
   "metadata": {},
   "source": [
    "část neuronu obsahující jádro a cytoplazmu s hlavními buněčnými organelami "
   ]
  },
  {
   "cell_type": "markdown",
   "metadata": {},
   "source": [
    "<b>axon</b>"
   ]
  },
  {
   "cell_type": "markdown",
   "metadata": {},
   "source": [
    "nervové vlákno specializované k vedení akčních potenciálů, délka axonu může dosáhnout až 1 m"
   ]
  },
  {
   "cell_type": "markdown",
   "metadata": {},
   "source": [
    "<b>nervová zakončení/synapse</b>"
   ]
  },
  {
   "cell_type": "markdown",
   "metadata": {},
   "source": [
    "uvolnění (sekrece) chemických signálů (neurotrasmiterů) pro přenos signálů mezi jednotlivými neurony nebo k cílovým buňkám   "
   ]
  },
  {
   "cell_type": "markdown",
   "metadata": {
    "collapsed": true
   },
   "source": [
    "![alt text](pictures/biological_neuron.png  \"biological neuron\") "
   ]
  },
  {
   "cell_type": "markdown",
   "metadata": {},
   "source": [
    "# Chemicko - elektrický proces v neuronu"
   ]
  },
  {
   "cell_type": "markdown",
   "metadata": {},
   "source": [
    "- z chemického neurotransmiteru se signál převádí na elektrický post-synaptický potenciál\n",
    "- elektrický akční potenciál způsobí sekreci neurotransmiteru"
   ]
  },
  {
   "cell_type": "markdown",
   "metadata": {},
   "source": [
    "Nervové signály vznikají na základě toku náboje zprostředkovaného tokem iontů napříč cytoplazmatickou membránou neuronu. Mezi vnitřkem buňky a vnějším prostředím existuje rozdíl elektrického potenciálu. Tento rozdíl činí asi 70mV, resp. -70mV."
   ]
  },
  {
   "cell_type": "markdown",
   "metadata": {},
   "source": [
    "V klidu je většina iontových kanálů, jimiž mohou procházet ionty z okolí, uzavřena. Při stimulaci dendritu neurotransmiterem se kanály otevírají, což vede ke vtoku těchto iontů dovnitř neuronu a změně elektrického potenciálu."
   ]
  },
  {
   "cell_type": "markdown",
   "metadata": {},
   "source": [
    "Iontové kanály konstantně monitorují elektrický potenciál buněčného těla neuronu. Pokud potenciál buňky překročí prahovou hodnotu, která je asi kolem −40 mV, pak se neuronem šíří akční potenciál a ten je přenášen axonem směrem k nervovým zakončením - synapsím."
   ]
  },
  {
   "cell_type": "markdown",
   "metadata": {},
   "source": [
    "![alt text](pictures/neruon_action_potential.png  \"action potential reached - neuron fires\") "
   ]
  },
  {
   "cell_type": "markdown",
   "metadata": {},
   "source": [
    "# Lidský mozek - 1 000 000 000 000 000 nervových spojení"
   ]
  },
  {
   "cell_type": "markdown",
   "metadata": {},
   "source": [
    "- lidský mozek sestává ze zhruba sto miliard neuronů - <b>100 000 000 000</b>\n",
    "- každý neuron má asi <b>10 000</b> nervových zakončení, počet spojení je fenomenálních jeden tisíc bilionů - \n",
    "<b>1 000 000 000 000 000</b>\n",
    "- žádný neuron nemůže reagovat na stimul s frekvencí větší nežli 1000 aktivací/sec a při této frekvenci aktivací bude takto pracovat jen zlomek sekundy"
   ]
  }
 ],
 "metadata": {
  "kernelspec": {
   "display_name": "Python 3.6",
   "language": "python",
   "name": "python3.6"
  },
  "language_info": {
   "codemirror_mode": {
    "name": "ipython",
    "version": 3
   },
   "file_extension": ".py",
   "mimetype": "text/x-python",
   "name": "python",
   "nbconvert_exporter": "python",
   "pygments_lexer": "ipython3",
   "version": "3.6.0"
  }
 },
 "nbformat": 4,
 "nbformat_minor": 0
}
