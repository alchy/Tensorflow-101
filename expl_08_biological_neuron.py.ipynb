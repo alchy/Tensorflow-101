{
 "cells": [
  {
   "cell_type": "markdown",
   "metadata": {},
   "source": [
    "# Biologický neuron"
   ]
  },
  {
   "cell_type": "markdown",
   "metadata": {
    "collapsed": true
   },
   "source": [
    "![alt text](pictures/biological_neuron.png  \"biological neuron\") "
   ]
  },
  {
   "cell_type": "markdown",
   "metadata": {},
   "source": [
    "- Soma or cell body : It contains the cell’s nucleus and other vital components called organelles which perform specialized tasks\n",
    "- A set of dendrites : It forms a tree-like structure that spreads out from the cell. The neuron receives its input electrical signals along these.\n",
    "- A single axon : It is a tubular extension from the cell soma that may repeatedly branch to form an axonal tree, it carries an electrical signal called action potential away from the soma to another neuron for processing."
   ]
  },
  {
   "cell_type": "markdown",
   "metadata": {},
   "source": [
    "# Lidský mozek"
   ]
  },
  {
   "cell_type": "markdown",
   "metadata": {},
   "source": [
    "- A formidably complex structure.\n",
    "- Comprises a network of roughly a hundred billion neurons.\n",
    "- Each neuron has about 10,000 synapses on an average, and therefore, the total number of connections is a phenomenal one thousand trillion—1000,000,000,000,000 or 10 to 15.\n",
    "- A cubic millimeterof brain contains on an average nearly a billion synapses.\n",
    "- No neuron can respond at rates much over 1000 spikes/sec (1000 Hz/1Khz), and even this is possible only for a fraction of a second with very strong stimuli."
   ]
  },
  {
   "cell_type": "markdown",
   "metadata": {},
   "source": [
    "# Chemické synapse"
   ]
  },
  {
   "cell_type": "markdown",
   "metadata": {},
   "source": [
    "The transmission process across a synapse requires a two-step transduction process:"
   ]
  },
  {
   "cell_type": "markdown",
   "metadata": {},
   "source": [
    "- From electrical action potential to chemical transmitter substance which is released into the synaptic cleft.\n",
    "- From chemical transmitter back to an electrical signal post-synaptic potential"
   ]
  },
  {
   "cell_type": "markdown",
   "metadata": {},
   "source": [
    "# Časová konstanta"
   ]
  },
  {
   "cell_type": "markdown",
   "metadata": {},
   "source": [
    "- When an external stimulus disturbs the ionic balance of ions in a resting membrane, it takes a finite time for the diffusion and pumping of ions to restore the resting potential.\n",
    "- Graded potentials are thus sustained for sometime before they decay back to the equilibrium values.\n",
    "- The time constant quantifies the rate at which the decay to the resting value takes place.\n",
    "- For a typical neuron the time constant is about 4–10 ms.\n",
    "- Thus, when a stimulus is applied to a dendrite, the membrane potential is restored to the rest value in a small fraction of a second.\n",
    "- Graded potentials are electrical potentials and are conducted through the neuron almost at the speed of light."
   ]
  }
 ],
 "metadata": {
  "kernelspec": {
   "display_name": "Python 3.6",
   "language": "python",
   "name": "python3.6"
  },
  "language_info": {
   "codemirror_mode": {
    "name": "ipython",
    "version": 3
   },
   "file_extension": ".py",
   "mimetype": "text/x-python",
   "name": "python",
   "nbconvert_exporter": "python",
   "pygments_lexer": "ipython3",
   "version": "3.6.0"
  }
 },
 "nbformat": 4,
 "nbformat_minor": 0
}
