{
 "cells": [
  {
   "cell_type": "markdown",
   "metadata": {},
   "source": [
    "# Stručná historie neuronek"
   ]
  },
  {
   "cell_type": "markdown",
   "metadata": {},
   "source": [
    "Existuje mnoho analogií mezi základním konceptem neuropsychologie a modely umělých neuronových sítí, ale oba tyto světy jsou nesmírně odlišné. Budeme mluvit o neuronových sítích tak, že jsou částečně inspirovány tím, jak současná neuropsychologie popisuje nervové systémy*."
   ]
  },
  {
   "cell_type": "markdown",
   "metadata": {},
   "source": [
    "*neuron: specializovaná buňka, která je schopna vést nervový impuls"
   ]
  },
  {
   "cell_type": "markdown",
   "metadata": {},
   "source": [
    "# 1940: začátek neuronových sítí"
   ]
  },
  {
   "cell_type": "markdown",
   "metadata": {},
   "source": [
    "<b>McCulloch&Pitts</b>"
   ]
  },
  {
   "cell_type": "markdown",
   "metadata": {},
   "source": [
    "Warren McCulloch a Walter Pitts navrhli první umělou neuronovou síť. V roce <b>1943</b> o tom publikovali článek v bulletinu matematické biofyziky. Model neuronu McCullocha a Pittse plní specifické zadání - řeší jednoduché logické funkce. Neurony mohou být také spojeny do sítě a tato síť reprezentuje komplexnější kombinační nebo logickou funkci. Signál cestující skrze síť z jednoho neuronu do druhého je přenesen vždy v jednom kroku."
   ]
  },
  {
   "cell_type": "markdown",
   "metadata": {},
   "source": [
    "Model neuronu z roku 1943 má step-aktivační funkci, výzkum tedy prezentuje užití tohoto neuronu především při simulaci logických funkcí. Idea prahu, při kterém je neuron aktivován je použita i v dnešních modelech neuronových sítí. Zde ale aktivační funkce má binární charakter jen ojediněle."
   ]
  },
  {
   "cell_type": "markdown",
   "metadata": {},
   "source": [
    "# 1950 a 1960: první zlatá éra neuronových sítí"
   ]
  },
  {
   "cell_type": "markdown",
   "metadata": {},
   "source": [
    "<b>John von Neumann</b>"
   ]
  },
  {
   "cell_type": "markdown",
   "metadata": {},
   "source": [
    "I přes to, že se na neuronové sítě často nahlíželo jako na alternativu (nebo doplněk) tradičních výpočetních metod, toto téma zaujalo i von Neumanna, otce moderního computingu. Také von Neumann se velmi zajímal o možnost modelovat funkci mozku [von Neumann, 1958]."
   ]
  },
  {
   "cell_type": "markdown",
   "metadata": {},
   "source": [
    "<b>Perceptrons</b>"
   ]
  },
  {
   "cell_type": "markdown",
   "metadata": {},
   "source": [
    "Oproti McCulloch–Pitts neuronu je perceptron o něco více flexibilní. McCulloch–Pitts model využíval předdefinované váhy vstupů a pro změnu funkce bylo nutné provést úpravu aktivačního prahu nebo zapojení sítě neuronů. Perceptron už využívá proměnné váhy na vstupech a tyto váhy při procesu učení přizpůsobuje tak, aby dosáhl požadovaného výstupu. Stejně jako McCulloch–Pitts neuron, perceptron používá treshold aktivační funkci. "
   ]
  },
  {
   "cell_type": "markdown",
   "metadata": {},
   "source": [
    "Počáteční úspěch perceptronů vedl k poměrně optimistickým proklamacím. Vlna optimismus spojená se schopnostmi perceptronu však opadla, když byla publikována studie mj. zkoumající omezení perceptronu [Minsky & Papert, 1969]."
   ]
  },
  {
   "cell_type": "markdown",
   "metadata": {},
   "source": [
    "# 1970: omezení perceptronu"
   ]
  },
  {
   "cell_type": "markdown",
   "metadata": {},
   "source": [
    "Některé zdroje tvrdí, že studie Minskyho a Paperta, která poukázala na značná omezení perceptronu, přiměla mnoho vědců, aby se nadále problematikou umělých neuronových sítí nezabývali. Výzkum v oblasti umělých neuronových síti se však nezastavil úplně, mnoho v současnosti známých jmen v oboru pokračovalo ve výzkumu a dále publikovalao (Teuvo Kohonen, James Anderson, Stephen Grossberg, Gail Carpenter). "
   ]
  },
  {
   "cell_type": "markdown",
   "metadata": {},
   "source": [
    "# 1980: enthusiasmus se vrací"
   ]
  },
  {
   "cell_type": "markdown",
   "metadata": {},
   "source": [
    "<b>Backpropagation</b>"
   ]
  },
  {
   "cell_type": "markdown",
   "metadata": {},
   "source": [
    "Jedním z důvodů proč v sedmdesátých letech došlo k odklonu od konceptu perceptronů bylo i to, že single-layer zapojení perceptronů nebylo schopné řešit složitější problémy, jako například logickou funkci XOR. Pro vícevrstvé zapojení perceptronu zase chyběla obecná metoda učení takové sítě.  "
   ]
  },
  {
   "cell_type": "markdown",
   "metadata": {},
   "source": [
    "Metoda umožňující učit vícevrstvé neuronové sítě byla sice objevena hned několika výzkumníky již v sedmdesátých letech, ale nedosáhla dostatečné publicity. Teprve v letech osmdesátých se jí podařilo prosadit a to umožnilo další rozvoj umělých neuronových sítí."
   ]
  },
  {
   "cell_type": "markdown",
   "metadata": {},
   "source": [
    "V osmdesátých letech začaly být dostupné počítače s větším výkonem. Na straně hardware dochází k mnoha inovacím, omezení plynoucí z malé kapacity operační paměti a rychlosti výpočtu už nejsou tak znatelná. To je dalším faktorem, který přispívá k obnovení výzkumů neuronových sítí."
   ]
  },
  {
   "cell_type": "markdown",
   "metadata": {},
   "source": [
    "# 1990 - 2010: hardwarová omezení ustupují do pozadí"
   ]
  },
  {
   "cell_type": "markdown",
   "metadata": {},
   "source": [
    "Ceny paměti, která je potřebná pro simulaci větších neuronových sítí, letí strmě dolů. Stejně tak výpočetní výkon je dostupnější. "
   ]
  },
  {
   "cell_type": "markdown",
   "metadata": {},
   "source": [
    "# 2010: masivní paralelizace výpočtu, cloudové služby"
   ]
  },
  {
   "cell_type": "markdown",
   "metadata": {},
   "source": [
    "Cloud computing s sebou přináší možnost masivní paralelizace výpočtu. To vede k odstranění posledních překážek. Neuronové sítě se stěhují ven z akademického prostředí a dostávají možnost uplatnění v praxi."
   ]
  },
  {
   "cell_type": "markdown",
   "metadata": {},
   "source": [
    "# Zpět k Tensorflow, neuron popsaný tf Grafem"
   ]
  },
  {
   "cell_type": "markdown",
   "metadata": {},
   "source": [
    "![alt text](pictures/artificial_neuron.png \"https://inspirehep.net/record/1300728/plots\")"
   ]
  },
  {
   "cell_type": "code",
   "execution_count": 1,
   "metadata": {
    "collapsed": true
   },
   "outputs": [],
   "source": [
    "import tensorflow as tf"
   ]
  },
  {
   "cell_type": "markdown",
   "metadata": {},
   "source": [
    "Neuron bude mít tři vstupy:"
   ]
  },
  {
   "cell_type": "code",
   "execution_count": 2,
   "metadata": {
    "collapsed": true
   },
   "outputs": [],
   "source": [
    "nr_inputs = 3"
   ]
  },
  {
   "cell_type": "code",
   "execution_count": 3,
   "metadata": {
    "collapsed": true
   },
   "outputs": [],
   "source": [
    "with tf.name_scope('inputs'):\n",
    "    neuron_inputs = tf.placeholder(tf.float32, [nr_inputs, 1], name='input')"
   ]
  },
  {
   "cell_type": "code",
   "execution_count": 4,
   "metadata": {
    "collapsed": true
   },
   "outputs": [],
   "source": [
    "with tf.name_scope('neuron'):\n",
    "\n",
    "    with tf.name_scope('Weights'):\n",
    "        neuron_weights = tf.placeholder(tf.float32, [nr_inputs, 1], name='Weight')\n",
    "\n",
    "    with tf.name_scope('bias'):\n",
    "        neuron_bias = tf.placeholder(tf.float32, [1], name='bias')\n",
    "\n",
    "    with tf.name_scope('neuron_fn'):\n",
    "        neuron_fn1_out = tf.multiply(neuron_inputs, neuron_weights, name='Wx')\n",
    "        neuron_fn2 = tf.reduce_sum(neuron_fn1_out)\n",
    "        neuron_fn3 = tf.add(neuron_fn2, neuron_bias)\n",
    "        neuron_out = tf.sigmoid(neuron_fn3)"
   ]
  },
  {
   "cell_type": "code",
   "execution_count": 5,
   "metadata": {
    "collapsed": false
   },
   "outputs": [
    {
     "name": "stdout",
     "output_type": "stream",
     "text": [
      "[ 0.90720707]\n"
     ]
    }
   ],
   "source": [
    "with tf.Session() as sess:\n",
    "    writer = tf.summary.FileWriter(\"./tensorboard_example\", sess.graph)\n",
    "    neuron_inputs_feed =  [[0.8], [0.8], [0.8]]\n",
    "    neuron_weights_feed = [[0.1], [0.5], [1.0]]\n",
    "    neuron_bias_feed = [1.0]\n",
    "                            \n",
    "    res_neuron_out = sess.run(neuron_out,\n",
    "        feed_dict={neuron_inputs: neuron_inputs_feed,\n",
    "                   neuron_weights: neuron_weights_feed,\n",
    "                   neuron_bias: neuron_bias_feed})\n",
    "\n",
    "    print(res_neuron_out)"
   ]
  },
  {
   "cell_type": "markdown",
   "metadata": {},
   "source": [
    "tensorboard.exe --logdir=\".\\tensorboard_example\" --port 9000"
   ]
  }
 ],
 "metadata": {
  "kernelspec": {
   "display_name": "Python 3.6",
   "language": "python",
   "name": "python3.6"
  },
  "language_info": {
   "codemirror_mode": {
    "name": "ipython",
    "version": 3
   },
   "file_extension": ".py",
   "mimetype": "text/x-python",
   "name": "python",
   "nbconvert_exporter": "python",
   "pygments_lexer": "ipython3",
   "version": "3.6.0"
  }
 },
 "nbformat": 4,
 "nbformat_minor": 0
}
