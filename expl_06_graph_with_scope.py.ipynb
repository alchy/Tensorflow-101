{
 "cells": [
  {
   "cell_type": "markdown",
   "metadata": {},
   "source": [
    "# Graph scoping"
   ]
  },
  {
   "cell_type": "code",
   "execution_count": 7,
   "metadata": {
    "collapsed": true
   },
   "outputs": [],
   "source": [
    "import tensorflow as tf"
   ]
  },
  {
   "cell_type": "markdown",
   "metadata": {},
   "source": [
    "Existují dva typy scope:"
   ]
  },
  {
   "cell_type": "markdown",
   "metadata": {},
   "source": [
    "- <i>name scope</i>, který je definován pomocí tf.name_scope(), <i>name scope</i> umožňuje členit graf na menší celky, toto členení je zohledněno při vizualizaci grafu v tensorboardu:"
   ]
  },
  {
   "cell_type": "code",
   "execution_count": 14,
   "metadata": {
    "collapsed": false
   },
   "outputs": [],
   "source": [
    "with tf.name_scope('definice_tensoru'):\n",
    "    moje_variable = tf.Variable(0.0)\n",
    "\n",
    "with tf.name_scope('definice_operace_grafu'):\n",
    "    moje_variable = tf.add(1.0, 1.0, name='jedna_plus_jedna')"
   ]
  },
  {
   "cell_type": "markdown",
   "metadata": {},
   "source": [
    "- <i>variable scope</i>, který je definován pomocí tf.variable_scope(), <i>variable scope</i> dovoluje přistupovat v různých částech programu na tensory typu variable pouze s použitím jejich přislušného scope a jména a to i pokud jsou v jiném name scope: "
   ]
  },
  {
   "cell_type": "code",
   "execution_count": 10,
   "metadata": {
    "collapsed": false
   },
   "outputs": [],
   "source": [
    "with tf.name_scope(\"foo_name_scope\"):\n",
    "    with tf.variable_scope(\"var_scope\"):\n",
    "        a = tf.get_variable(\"var\", [1])"
   ]
  },
  {
   "cell_type": "markdown",
   "metadata": {},
   "source": [
    "Parametr <i>reuse=True</i> dovolí opětovně použít již definovanou proměnnou. Všiměte si, že jsme v jiné části <i>name scope</i> a na variable se odkazujeme pomocí <i>variable scope</i>:"
   ]
  },
  {
   "cell_type": "code",
   "execution_count": 11,
   "metadata": {
    "collapsed": true
   },
   "outputs": [],
   "source": [
    "with tf.name_scope(\"bar_name_scope\"):\n",
    "    with tf.variable_scope(\"var_scope\", reuse=True):\n",
    "        b = tf.get_variable(\"var\", [1])"
   ]
  },
  {
   "cell_type": "markdown",
   "metadata": {},
   "source": [
    "Jsou objekty totožné?"
   ]
  },
  {
   "cell_type": "code",
   "execution_count": 12,
   "metadata": {
    "collapsed": false
   },
   "outputs": [
    {
     "name": "stdout",
     "output_type": "stream",
     "text": [
      "[i] objekty jsou totozne\n",
      "var_scope/var:0\n",
      "var_scope/var:0\n"
     ]
    }
   ],
   "source": [
    "try:\n",
    "    assert a == b\n",
    "    print('[i] objekty jsou totozne')\n",
    "except AssertionError:\n",
    "    printf('[!] objekty nejsou totozne')\n",
    "\n",
    "print(a.name)\n",
    "print(b.name)"
   ]
  }
 ],
 "metadata": {
  "kernelspec": {
   "display_name": "Python 3.6",
   "language": "python",
   "name": "python3.6"
  },
  "language_info": {
   "codemirror_mode": {
    "name": "ipython",
    "version": 3
   },
   "file_extension": ".py",
   "mimetype": "text/x-python",
   "name": "python",
   "nbconvert_exporter": "python",
   "pygments_lexer": "ipython3",
   "version": "3.6.0"
  }
 },
 "nbformat": 4,
 "nbformat_minor": 0
}
