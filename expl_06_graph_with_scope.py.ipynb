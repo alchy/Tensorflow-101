{
 "cells": [
  {
   "cell_type": "markdown",
   "metadata": {},
   "source": [
    "# Graph scoping - členění Grafu za pomoci name_scope"
   ]
  },
  {
   "cell_type": "markdown",
   "metadata": {},
   "source": [
    "tf.name_scope přidává všem objektů jmenný prefix stejný jako parametr name_scope. Používání name_scope není povinné, ale pomůže Vám zpřehlednit / oddělit / jednotlivé funkční celky grafu, což oceníte v případě, že se na graf výpočtu budete dívat v tensorboardu (viz. Co je  Tensorboard). Pomocí jménného scope se také můžete odkazovat na konkrétní Tensory použité ve scope.  "
   ]
  },
  {
   "cell_type": "code",
   "execution_count": 2,
   "metadata": {
    "collapsed": false
   },
   "outputs": [],
   "source": [
    "import tensorflow as tf"
   ]
  },
  {
   "cell_type": "code",
   "execution_count": 3,
   "metadata": {
    "collapsed": false
   },
   "outputs": [
    {
     "name": "stdout",
     "output_type": "stream",
     "text": [
      "one/v:0\n"
     ]
    }
   ],
   "source": [
    "with tf.variable_scope(\"one\"):\n",
    "    a = tf.get_variable(\"v\", [1])\n",
    "    print(a.name)"
   ]
  },
  {
   "cell_type": "markdown",
   "metadata": {},
   "source": [
    "Pokud bychom použili ve stejném variable_scope stejné jméno Tensoru Variable, pak je vrácena exception - ValueError: Variable one/v already exists. Parametr reuse = True však umožňuje název znovu použít. V tom případě budou objekty totožné."
   ]
  },
  {
   "cell_type": "code",
   "execution_count": 13,
   "metadata": {
    "collapsed": false
   },
   "outputs": [
    {
     "name": "stdout",
     "output_type": "stream",
     "text": [
      "one/v:0\n"
     ]
    }
   ],
   "source": [
    "with tf.variable_scope(\"one\", reuse = True):\n",
    "    c = tf.get_variable(\"v\", [1])\n",
    "    print(a.name)"
   ]
  },
  {
   "cell_type": "code",
   "execution_count": 14,
   "metadata": {
    "collapsed": false
   },
   "outputs": [
    {
     "data": {
      "text/plain": [
       "True"
      ]
     },
     "execution_count": 14,
     "metadata": {},
     "output_type": "execute_result"
    }
   ],
   "source": [
    "a is c"
   ]
  },
  {
   "cell_type": "markdown",
   "metadata": {},
   "source": [
    "Získání hodnoty Variable <b>a</b> pro definici <b>b</b> prostřednictvím name-scope."
   ]
  },
  {
   "cell_type": "code",
   "execution_count": null,
   "metadata": {
    "collapsed": false
   },
   "outputs": [],
   "source": [
    "with tf.name_scope('operations'):\n",
    "    ac = tf.multiply(a, c, name='multiply_ac')\n",
    "    bc = tf.multiply(b, c, name='multiply_bc')\n",
    "    de = tf.add(ac, bc, name='sumof_ac_bc')"
   ]
  },
  {
   "cell_type": "code",
   "execution_count": null,
   "metadata": {
    "collapsed": false
   },
   "outputs": [],
   "source": [
    "with tf.Session() as sess:\n",
    "    sess.run(tf.global_variables_initializer())\n",
    "    writer = tf.summary.FileWriter(\"./tensorboard_example\", sess.graph)\n",
    "    data_feed = [[1., 2., 3., 4.]]\n",
    "    ac_res, bc_res, de_res = sess.run([ac, bc, de], feed_dict={c: data_feed})\n",
    "    print(\"a.eval(): \", a.eval(), \" a.name: \", a.name)\n",
    "    print(\"b.eval(): \", b.eval(), \" a.name: \", b.name)\n",
    "    print(\"ac_res: \", ac_res)\n",
    "    print(\"bc_res: \", bc_res)\n",
    "    print(\"de_res: \", de_res)\n",
    "    print(\"shape of a:\", a.get_shape())\n",
    "    print(\"shape of b:\", b.get_shape())\n",
    "    print(\"shape of de:\", de.get_shape())"
   ]
  },
  {
   "cell_type": "code",
   "execution_count": null,
   "metadata": {
    "collapsed": false
   },
   "outputs": [],
   "source": [
    "    "
   ]
  },
  {
   "cell_type": "markdown",
   "metadata": {},
   "source": [
    "# Co je to ten Tensorboard?"
   ]
  },
  {
   "cell_type": "markdown",
   "metadata": {},
   "source": [
    "Podívejme se teď na Tensorboard. Tensorboard slouží především k vizualizaci Grafu a vývoje hodnot prvků v grafu. Spouští na localhostu vlastní webovou službu.\n",
    "tensorboard.exe --logdir=\".\\tensorboard_example\" --port 9000"
   ]
  }
 ],
 "metadata": {
  "kernelspec": {
   "display_name": "Python 3.6",
   "language": "python",
   "name": "python3.6"
  },
  "language_info": {
   "codemirror_mode": {
    "name": "ipython",
    "version": 3
   },
   "file_extension": ".py",
   "mimetype": "text/x-python",
   "name": "python",
   "nbconvert_exporter": "python",
   "pygments_lexer": "ipython3",
   "version": "3.6.0"
  }
 },
 "nbformat": 4,
 "nbformat_minor": 0
}
