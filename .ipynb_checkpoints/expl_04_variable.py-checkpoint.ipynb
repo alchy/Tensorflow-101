{
 "cells": [
  {
   "cell_type": "markdown",
   "metadata": {},
   "source": [
    "# Typ Variable (proměnná)"
   ]
  },
  {
   "cell_type": "markdown",
   "metadata": {},
   "source": [
    "Typ variable je specifický kontejner pro uchování Tensorů, které mohou být v průběhu procesu učení měněny optimalizačními funkcemi Tensorflow. Tensor variable může být:"
   ]
  },
  {
   "cell_type": "markdown",
   "metadata": {},
   "source": [
    "- jediná hodnota - skalár\n",
    "- jednorozměrné pole hodnot - vektor\n",
    "- vícerozměrné pole hodnot - matice"
   ]
  },
  {
   "cell_type": "code",
   "execution_count": 1,
   "metadata": {
    "collapsed": false
   },
   "outputs": [],
   "source": [
    "import tensorflow as tf"
   ]
  },
  {
   "cell_type": "markdown",
   "metadata": {},
   "source": [
    "Tensor variable může být definován například takto:"
   ]
  },
  {
   "cell_type": "code",
   "execution_count": 2,
   "metadata": {
    "collapsed": false
   },
   "outputs": [],
   "source": [
    "a = tf.Variable(42.0, name=\"skalar_a\")\n",
    "b = tf.Variable((1, 2, 3, 4), name=\"vektor_b\")\n",
    "c = tf.Variable(tf.random_uniform([3, 3], -1, 1), name=\"matice_c\") "
   ]
  },
  {
   "cell_type": "markdown",
   "metadata": {},
   "source": [
    "'jméno proměnné' tensor jednoznačně identifikuje. Pomocí jména proměnné je také možné se na proměnnou odkazovat. Pokud jméno proměnné není definováno, Tensorflow přiřadí proměnné unikátní jméno."
   ]
  },
  {
   "cell_type": "code",
   "execution_count": 3,
   "metadata": {
    "collapsed": false
   },
   "outputs": [
    {
     "name": "stdout",
     "output_type": "stream",
     "text": [
      "skalar_a:0\n",
      "vektor_b:0\n",
      "matice_c:0\n"
     ]
    }
   ],
   "source": [
    "#trainable_vars = tf.get_collection(tf.GraphKeys.TRAINABLE_VARIABLES) # only trainable vars\n",
    "tf_vars = tf.global_variables()\n",
    "\n",
    "for tf_var in tf_vars:\n",
    "    print(tf_var.name)"
   ]
  },
  {
   "cell_type": "markdown",
   "metadata": {},
   "source": [
    "Funkce get_shape slouží pro získání informace o 'rozměru' tensoru. Na příkladě uvedeném níže je proměnná (a) skalár; (b) vektor; (c) matice. "
   ]
  },
  {
   "cell_type": "code",
   "execution_count": 4,
   "metadata": {
    "collapsed": false
   },
   "outputs": [
    {
     "name": "stdout",
     "output_type": "stream",
     "text": [
      "(a) shape:  ()\n",
      "(b) shape:  (4,)\n",
      "(c) shape:  (3, 3)\n"
     ]
    }
   ],
   "source": [
    "print('(a) shape: ', a.get_shape())\n",
    "print('(b) shape: ', b.get_shape())\n",
    "print('(c) shape: ', c.get_shape())"
   ]
  },
  {
   "cell_type": "markdown",
   "metadata": {},
   "source": [
    "Vytvářet tensory typu variable je možné též pomocí funkce tf.get_variable. Povinným parametrem této funkce je 'jméno proměnné'. "
   ]
  },
  {
   "cell_type": "code",
   "execution_count": 5,
   "metadata": {
    "collapsed": false
   },
   "outputs": [],
   "source": [
    "x = tf.get_variable(\"var_x\", shape=(), initializer=tf.zeros_initializer())\n",
    "y = tf.get_variable(\"var_y\", [4], initializer=tf.constant_initializer(0.0))\n",
    "z = tf.get_variable(\"var_z\", [3, 3], initializer=tf.random_normal_initializer())"
   ]
  },
  {
   "cell_type": "code",
   "execution_count": 6,
   "metadata": {
    "collapsed": false
   },
   "outputs": [
    {
     "name": "stdout",
     "output_type": "stream",
     "text": [
      "x shape:  ()\n",
      "y shape:  (4,)\n",
      "z shape:  (3, 3)\n"
     ]
    }
   ],
   "source": [
    "print('x shape: ', x.get_shape())\n",
    "print('y shape: ', y.get_shape())\n",
    "print('z shape: ', z.get_shape())"
   ]
  },
  {
   "cell_type": "markdown",
   "metadata": {},
   "source": [
    "Pokud nechceme, aby byl při procesu učení tensor typu variable modifikován, pak v definici variable použijeme parametr <i>trainable=False</i>."
   ]
  },
  {
   "cell_type": "code",
   "execution_count": 7,
   "metadata": {
    "collapsed": true
   },
   "outputs": [],
   "source": [
    "d = tf.Variable(42.0, trainable=False)"
   ]
  },
  {
   "cell_type": "code",
   "execution_count": 24,
   "metadata": {
    "collapsed": true
   },
   "outputs": [],
   "source": [
    "sess.close()"
   ]
  },
  {
   "cell_type": "markdown",
   "metadata": {},
   "source": [
    "# Typ Variable - inicializace, metoda global_variables_initializer()"
   ]
  },
  {
   "cell_type": "markdown",
   "metadata": {},
   "source": [
    "Vytvoříme novou Session: "
   ]
  },
  {
   "cell_type": "code",
   "execution_count": 25,
   "metadata": {
    "collapsed": true
   },
   "outputs": [],
   "source": [
    "sess = tf.Session()"
   ]
  },
  {
   "cell_type": "markdown",
   "metadata": {},
   "source": [
    "U tensoru typu variable vždy potřebujeme provést počáteční inicializaci. V rámci inicializace budou našim tensorům typu variable přiřazeny počáteční hodnoty. "
   ]
  },
  {
   "cell_type": "code",
   "execution_count": 27,
   "metadata": {
    "collapsed": false
   },
   "outputs": [],
   "source": [
    "sess.run(tf.global_variables_initializer())"
   ]
  },
  {
   "cell_type": "code",
   "execution_count": 28,
   "metadata": {
    "collapsed": false
   },
   "outputs": [
    {
     "name": "stdout",
     "output_type": "stream",
     "text": [
      "(a): \n",
      " 42.0\n",
      "(b): \n",
      " [1 2 3 4]\n",
      "(c): \n",
      " [[ 0.51312351 -0.57280779  0.6515882 ]\n",
      " [-0.31022811  0.30629182 -0.76460338]\n",
      " [-0.4701488   0.22626591  0.42931581]]\n"
     ]
    }
   ],
   "source": [
    "print('(a): \\n', a.eval(session=sess))\n",
    "print('(b): \\n', b.eval(session=sess))\n",
    "print('(c): \\n', c.eval(session=sess))"
   ]
  },
  {
   "cell_type": "code",
   "execution_count": 29,
   "metadata": {
    "collapsed": false
   },
   "outputs": [
    {
     "name": "stdout",
     "output_type": "stream",
     "text": [
      "(x): \n",
      " 0.0\n",
      "(y): \n",
      " [ 0.  0.  0.  0.]\n",
      "(z): \n",
      " [[ 0.26258507 -0.64393932  1.25223124]\n",
      " [ 1.08484638  1.21216989  0.21465681]\n",
      " [ 1.64528096  1.56341434 -0.08879239]]\n"
     ]
    }
   ],
   "source": [
    "print('(x): \\n', x.eval(session=sess))\n",
    "print('(y): \\n', y.eval(session=sess))\n",
    "print('(z): \\n', z.eval(session=sess))"
   ]
  },
  {
   "cell_type": "code",
   "execution_count": 30,
   "metadata": {
    "collapsed": true
   },
   "outputs": [],
   "source": [
    "sess.close()"
   ]
  },
  {
   "cell_type": "markdown",
   "metadata": {},
   "source": [
    "# Typ Variable - inicializace, metoda initializer.run()"
   ]
  },
  {
   "cell_type": "markdown",
   "metadata": {},
   "source": [
    "Metoda initializer.run() další způsob, jak provést inicializaci tensoru variable."
   ]
  },
  {
   "cell_type": "code",
   "execution_count": 36,
   "metadata": {
    "collapsed": true
   },
   "outputs": [],
   "source": [
    "sess = tf.Session()"
   ]
  },
  {
   "cell_type": "code",
   "execution_count": 37,
   "metadata": {
    "collapsed": false
   },
   "outputs": [],
   "source": [
    "a.initializer.run(session=sess)\n",
    "b.initializer.run(session=sess)\n",
    "c.initializer.run(session=sess)"
   ]
  },
  {
   "cell_type": "code",
   "execution_count": 38,
   "metadata": {
    "collapsed": false
   },
   "outputs": [
    {
     "name": "stdout",
     "output_type": "stream",
     "text": [
      "(a): \n",
      " 42.0\n",
      "(b): \n",
      " [1 2 3 4]\n",
      "(c): \n",
      " [[-0.77819848 -0.464926    0.71787381]\n",
      " [ 0.63302493 -0.61534238 -0.83571386]\n",
      " [ 0.11454892 -0.64117146 -0.27751398]]\n"
     ]
    }
   ],
   "source": [
    "print('(a): \\n', a.eval(session=sess))\n",
    "print('(b): \\n', b.eval(session=sess))\n",
    "print('(c): \\n', c.eval(session=sess))"
   ]
  },
  {
   "cell_type": "code",
   "execution_count": 41,
   "metadata": {
    "collapsed": true
   },
   "outputs": [],
   "source": [
    "x.initializer.run(session=sess)\n",
    "y.initializer.run(session=sess)\n",
    "z.initializer.run(session=sess)"
   ]
  },
  {
   "cell_type": "code",
   "execution_count": 46,
   "metadata": {
    "collapsed": false
   },
   "outputs": [
    {
     "name": "stdout",
     "output_type": "stream",
     "text": [
      "(x): \n",
      " 0.0\n",
      "(y): \n",
      " [ 0.  0.  0.  0.]\n",
      "(z): \n",
      " [[ 0.25277686 -0.32317629  0.43126944]\n",
      " [-1.1132611  -0.35356668  0.74354833]\n",
      " [ 0.10898042  1.02042317  2.44411302]]\n"
     ]
    }
   ],
   "source": [
    "print('(x): \\n', x.eval(session=sess))\n",
    "print('(y): \\n', y.eval(session=sess))\n",
    "print('(z): \\n', z.eval(session=sess))"
   ]
  },
  {
   "cell_type": "code",
   "execution_count": 47,
   "metadata": {
    "collapsed": true
   },
   "outputs": [],
   "source": [
    "sess.close()"
   ]
  },
  {
   "cell_type": "markdown",
   "metadata": {},
   "source": [
    "# Typ Variable - další operace"
   ]
  },
  {
   "cell_type": "markdown",
   "metadata": {},
   "source": [
    "Přiřazení hodnoty (setter) proměnné (x)."
   ]
  },
  {
   "cell_type": "code",
   "execution_count": 55,
   "metadata": {
    "collapsed": false
   },
   "outputs": [],
   "source": [
    "assignment = x.assign(42)"
   ]
  },
  {
   "cell_type": "markdown",
   "metadata": {},
   "source": [
    "Operace inkrement a dekrement nad tensorem typu variable:"
   ]
  },
  {
   "cell_type": "code",
   "execution_count": 56,
   "metadata": {
    "collapsed": true
   },
   "outputs": [],
   "source": [
    "increment_x = x.assign_add(1)\n",
    "decrement_x = x.assign_sub(1)"
   ]
  },
  {
   "cell_type": "markdown",
   "metadata": {},
   "source": [
    "Operace přiřazení, inkrement a dekrement musíme volat z platné session, např.:"
   ]
  },
  {
   "cell_type": "code",
   "execution_count": 57,
   "metadata": {
    "collapsed": false
   },
   "outputs": [
    {
     "name": "stdout",
     "output_type": "stream",
     "text": [
      "(x) init: \n",
      " 0.0\n",
      "(x) assignment: \n",
      " 42.0\n",
      "(x) increment: \n",
      " 43.0\n",
      "(x) increment: \n",
      " 42.0\n"
     ]
    }
   ],
   "source": [
    "sess = tf.Session()\n",
    "\n",
    "sess.run(tf.global_variables_initializer())\n",
    "print('(x) init: \\n', x.eval(session=sess))\n",
    "\n",
    "sess.run(assignment)\n",
    "print('(x) assignment: \\n', x.eval(session=sess))\n",
    "\n",
    "sess.run(increment_x)\n",
    "print('(x) increment: \\n', x.eval(session=sess))\n",
    "\n",
    "sess.run(decrement_x)\n",
    "print('(x) increment: \\n', x.eval(session=sess))\n",
    "\n",
    "sess.close()"
   ]
  },
  {
   "cell_type": "markdown",
   "metadata": {},
   "source": [
    "Výpis všech proměnnýhc typu trainable: "
   ]
  },
  {
   "cell_type": "code",
   "execution_count": 58,
   "metadata": {
    "collapsed": false
   },
   "outputs": [
    {
     "name": "stdout",
     "output_type": "stream",
     "text": [
      "skalar_a:0\n",
      "vektor_b:0\n",
      "matice_c:0\n",
      "var_x:0\n",
      "var_y:0\n",
      "var_z:0\n"
     ]
    }
   ],
   "source": [
    "for tf_trainable in tf.trainable_variables():\n",
    "    print(tf_trainable.name)"
   ]
  },
  {
   "cell_type": "markdown",
   "metadata": {},
   "source": [
    "Uložení hodnot tensoru typu variable: (TBD)"
   ]
  },
  {
   "cell_type": "markdown",
   "metadata": {},
   "source": [
    "Na Tensor typu Variable nemůže být použita operace reshape, např. n.reshape(n, [2, 6])."
   ]
  },
  {
   "cell_type": "markdown",
   "metadata": {},
   "source": [
    "# Odkazy:"
   ]
  },
  {
   "cell_type": "markdown",
   "metadata": {},
   "source": [
    "https://www.tensorflow.org/programmers_guide/variables"
   ]
  }
 ],
 "metadata": {
  "kernelspec": {
   "display_name": "Python 3.6",
   "language": "python",
   "name": "python3.6"
  },
  "language_info": {
   "codemirror_mode": {
    "name": "ipython",
    "version": 3
   },
   "file_extension": ".py",
   "mimetype": "text/x-python",
   "name": "python",
   "nbconvert_exporter": "python",
   "pygments_lexer": "ipython3",
   "version": "3.6.0"
  }
 },
 "nbformat": 4,
 "nbformat_minor": 0
}
