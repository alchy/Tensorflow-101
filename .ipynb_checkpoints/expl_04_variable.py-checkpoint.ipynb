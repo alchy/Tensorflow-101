{
 "cells": [
  {
   "cell_type": "markdown",
   "metadata": {},
   "source": [
    "# Typ Variable (proměnná)"
   ]
  },
  {
   "cell_type": "markdown",
   "metadata": {},
   "source": [
    "Typ variable je specifický kontejner pro uchování Tensorů, které mohou být v průběhu procesu učení měněny optimalizačními funkcemi Tensorflow. Tensor variable může být:"
   ]
  },
  {
   "cell_type": "markdown",
   "metadata": {},
   "source": [
    "- jediná hodnota - skalár\n",
    "- jednorozměrné pole hodnot - vektor\n",
    "- vícerozměrné pole hodnot - matice"
   ]
  },
  {
   "cell_type": "code",
   "execution_count": 1,
   "metadata": {
    "collapsed": false
   },
   "outputs": [],
   "source": [
    "import tensorflow as tf"
   ]
  },
  {
   "cell_type": "markdown",
   "metadata": {},
   "source": [
    "Tensor variable může být definován například takto:"
   ]
  },
  {
   "cell_type": "code",
   "execution_count": 2,
   "metadata": {
    "collapsed": false
   },
   "outputs": [],
   "source": [
    "a = tf.Variable(42.0)\n",
    "b = tf.Variable((1, 2, 3, 4), name=\"vektor_b\")\n",
    "c = tf.Variable(tf.random_uniform([3, 3], -1, 1), name=\"matice_c\") "
   ]
  },
  {
   "cell_type": "markdown",
   "metadata": {},
   "source": [
    "'jméno proměnné' proměnnou jednoznačně identifikuje a přes jméno proměnné je také možné k proměnné přistupovat. Pokud není definováno parametrem 'name', pak Tensorflow přiřadí proměnné unikátní jméno sám."
   ]
  },
  {
   "cell_type": "code",
   "execution_count": 3,
   "metadata": {
    "collapsed": false
   },
   "outputs": [
    {
     "name": "stdout",
     "output_type": "stream",
     "text": [
      "Variable:0\n",
      "vektor_b:0\n",
      "matice_c:0\n"
     ]
    }
   ],
   "source": [
    "#trainable_vars = tf.get_collection(tf.GraphKeys.TRAINABLE_VARIABLES) # only trainable vars\n",
    "tf_vars = tf.global_variables()\n",
    "\n",
    "for tf_var in tf_vars:\n",
    "    print(tf_var.name)"
   ]
  },
  {
   "cell_type": "markdown",
   "metadata": {},
   "source": [
    "Funkce get_shape slouží pro získání informace o 'rozměru' tensoru. Na příkladě uvedeném níže je proměnná (a) skalár; (b) vektor; (c) matice. "
   ]
  },
  {
   "cell_type": "code",
   "execution_count": 4,
   "metadata": {
    "collapsed": false
   },
   "outputs": [
    {
     "name": "stdout",
     "output_type": "stream",
     "text": [
      "(a) shape:  ()\n",
      "(b) shape:  (4,)\n",
      "(c) shape:  (3, 3)\n"
     ]
    }
   ],
   "source": [
    "print('(a) shape: ', a.get_shape())\n",
    "print('(b) shape: ', b.get_shape())\n",
    "print('(c) shape: ', c.get_shape())"
   ]
  },
  {
   "cell_type": "markdown",
   "metadata": {},
   "source": [
    "Vytvářet tensory typu variable je možné též pomocí funkce tf.get_variable. Povinným parametrem této funkce je 'jméno proměnné'. "
   ]
  },
  {
   "cell_type": "code",
   "execution_count": 5,
   "metadata": {
    "collapsed": false
   },
   "outputs": [],
   "source": [
    "x = tf.get_variable(\"var_x\", shape=(), initializer=tf.zeros_initializer())\n",
    "y = tf.get_variable(\"var_y\", [4], initializer=tf.constant_initializer(0.0))\n",
    "z = tf.get_variable(\"var_z\", [3, 3], initializer=tf.random_normal_initializer())"
   ]
  },
  {
   "cell_type": "code",
   "execution_count": 6,
   "metadata": {
    "collapsed": false
   },
   "outputs": [
    {
     "name": "stdout",
     "output_type": "stream",
     "text": [
      "x shape:  ()\n",
      "y shape:  (4,)\n",
      "z shape:  (3, 3)\n"
     ]
    }
   ],
   "source": [
    "print('x shape: ', x.get_shape())\n",
    "print('y shape: ', y.get_shape())\n",
    "print('z shape: ', z.get_shape())"
   ]
  },
  {
   "cell_type": "markdown",
   "metadata": {},
   "source": [
    "Pokud nechceme optimalizačním funkcím Tensorflow dovolit, aby při procesu učení proměnnou modifikovaly, pak jako parametr při definici proměnné použijeme trainable=False (default je True)."
   ]
  },
  {
   "cell_type": "code",
   "execution_count": 7,
   "metadata": {
    "collapsed": true
   },
   "outputs": [],
   "source": [
    "d = tf.Variable(42.0, trainable=False)"
   ]
  },
  {
   "cell_type": "markdown",
   "metadata": {},
   "source": [
    "# Typ Variable - inicializace, metoda global_variables_initializer()"
   ]
  },
  {
   "cell_type": "code",
   "execution_count": 17,
   "metadata": {
    "collapsed": true
   },
   "outputs": [],
   "source": [
    "sess = tf.Session()"
   ]
  },
  {
   "cell_type": "markdown",
   "metadata": {},
   "source": [
    "Tensor typu variable se ještě oproti ostatním typům Tensorů liší tím, že u něj vždy potřebujeme provést počáteční inicializaci."
   ]
  },
  {
   "cell_type": "code",
   "execution_count": 18,
   "metadata": {
    "collapsed": false
   },
   "outputs": [],
   "source": [
    "sess.run(tf.global_variables_initializer())"
   ]
  },
  {
   "cell_type": "markdown",
   "metadata": {},
   "source": [
    "Inicializace zajistí, že tensorům variable budou přiřazeny počáteční hodnoty. "
   ]
  },
  {
   "cell_type": "code",
   "execution_count": 19,
   "metadata": {
    "collapsed": false
   },
   "outputs": [
    {
     "name": "stdout",
     "output_type": "stream",
     "text": [
      "(a):  42.0\n",
      "(b):  [1 2 3 4]\n",
      "(c):  [[ 0.09743547 -0.88294291  0.05065894]\n",
      " [-0.69939089 -0.49960637 -0.8659234 ]\n",
      " [-0.38385177 -0.76335955  0.85702324]]\n"
     ]
    }
   ],
   "source": [
    "print('(a): ', a.eval(session=sess))\n",
    "print('(b): ', b.eval(session=sess))\n",
    "print('(c): ', c.eval(session=sess))"
   ]
  },
  {
   "cell_type": "code",
   "execution_count": 20,
   "metadata": {
    "collapsed": false
   },
   "outputs": [
    {
     "name": "stdout",
     "output_type": "stream",
     "text": [
      "(x):  0.0\n",
      "(y):  [ 0.  0.  0.  0.]\n",
      "(z):  [[-0.42074251 -0.46938169 -0.91593695]\n",
      " [ 0.40945992  0.21662033  0.1658165 ]\n",
      " [-0.29393718 -1.68344557 -0.84493709]]\n"
     ]
    }
   ],
   "source": [
    "print('(x): ', x.eval(session=sess))\n",
    "print('(y): ', y.eval(session=sess))\n",
    "print('(z): ', z.eval(session=sess))"
   ]
  },
  {
   "cell_type": "code",
   "execution_count": 21,
   "metadata": {
    "collapsed": true
   },
   "outputs": [],
   "source": [
    "sess.close()"
   ]
  },
  {
   "cell_type": "markdown",
   "metadata": {},
   "source": [
    "# Typ Variable - inicializace, metoda initializer.run()"
   ]
  },
  {
   "cell_type": "code",
   "execution_count": 23,
   "metadata": {
    "collapsed": true
   },
   "outputs": [],
   "source": [
    "sess = tf.Session()\n",
    "sess.run(tf.global_variables_initializer())"
   ]
  },
  {
   "cell_type": "markdown",
   "metadata": {},
   "source": [
    "Metoda initializer.run() další způsob, jak provést inicializaci tensoru variable."
   ]
  },
  {
   "cell_type": "code",
   "execution_count": 24,
   "metadata": {
    "collapsed": false
   },
   "outputs": [],
   "source": [
    "a.initializer.run(session=sess)\n",
    "b.initializer.run(session=sess)\n",
    "c.initializer.run(session=sess)"
   ]
  },
  {
   "cell_type": "code",
   "execution_count": 25,
   "metadata": {
    "collapsed": false
   },
   "outputs": [
    {
     "name": "stdout",
     "output_type": "stream",
     "text": [
      "(a):  42.0\n",
      "(b):  [1 2 3 4]\n",
      "(c):  [[-0.90079927  0.28887773 -0.28051114]\n",
      " [ 0.6285007  -0.87906694  0.49476457]\n",
      " [-0.34386992 -0.07344246 -0.79805827]]\n"
     ]
    }
   ],
   "source": [
    "print('(a): ', a.eval(session=sess))\n",
    "print('(b): ', b.eval(session=sess))\n",
    "print('(c): ', c.eval(session=sess))"
   ]
  },
  {
   "cell_type": "code",
   "execution_count": 26,
   "metadata": {
    "collapsed": true
   },
   "outputs": [],
   "source": [
    "x.initializer.run(session=sess)\n",
    "y.initializer.run(session=sess)\n",
    "z.initializer.run(session=sess)"
   ]
  },
  {
   "cell_type": "code",
   "execution_count": 27,
   "metadata": {
    "collapsed": false
   },
   "outputs": [
    {
     "name": "stdout",
     "output_type": "stream",
     "text": [
      "(x):  0.0\n",
      "(y):  [ 0.  0.  0.  0.]\n",
      "(z):  [[-0.82243264  2.68513203 -0.72563618]\n",
      " [ 0.64587867  0.08906178  0.36961961]\n",
      " [ 0.54944187 -1.03327966 -0.87190086]]\n"
     ]
    }
   ],
   "source": [
    "print('(x): ', x.eval(session=sess))\n",
    "print('(y): ', y.eval(session=sess))\n",
    "print('(z): ', z.eval(session=sess))"
   ]
  },
  {
   "cell_type": "code",
   "execution_count": 28,
   "metadata": {
    "collapsed": true
   },
   "outputs": [],
   "source": [
    "sess.close()"
   ]
  },
  {
   "cell_type": "markdown",
   "metadata": {},
   "source": [
    "# Typ Variable - další operace"
   ]
  },
  {
   "cell_type": "markdown",
   "metadata": {},
   "source": [
    "Přiřazení hodnoty (setter) proměnné (x)."
   ]
  },
  {
   "cell_type": "code",
   "execution_count": 32,
   "metadata": {
    "collapsed": false
   },
   "outputs": [],
   "source": [
    "assignment = x.assign(1)"
   ]
  },
  {
   "cell_type": "markdown",
   "metadata": {},
   "source": [
    "Přiřazení musíme volat z platné session:"
   ]
  },
  {
   "cell_type": "code",
   "execution_count": 33,
   "metadata": {
    "collapsed": false
   },
   "outputs": [
    {
     "name": "stdout",
     "output_type": "stream",
     "text": [
      "(x) after init:  0.0\n",
      "(x) after assignment:  1.0\n"
     ]
    }
   ],
   "source": [
    "sess = tf.Session()\n",
    "sess.run(tf.global_variables_initializer())\n",
    "print('(x) after init: ', x.eval(session=sess))\n",
    "sess.run(assignment)\n",
    "print('(x) after assignment: ', x.eval(session=sess))"
   ]
  },
  {
   "cell_type": "markdown",
   "metadata": {},
   "source": [
    "Na Tensor typu Variable nemůže být použita operace reshape, např. n.reshape(n, [2, 6])."
   ]
  },
  {
   "cell_type": "code",
   "execution_count": 34,
   "metadata": {
    "collapsed": false
   },
   "outputs": [],
   "source": [
    "sess.close()"
   ]
  },
  {
   "cell_type": "markdown",
   "metadata": {},
   "source": [
    "# Odkazy:"
   ]
  },
  {
   "cell_type": "markdown",
   "metadata": {},
   "source": [
    "https://www.tensorflow.org/programmers_guide/variables"
   ]
  }
 ],
 "metadata": {
  "kernelspec": {
   "display_name": "Python 3.6",
   "language": "python",
   "name": "python3.6"
  },
  "language_info": {
   "codemirror_mode": {
    "name": "ipython",
    "version": 3
   },
   "file_extension": ".py",
   "mimetype": "text/x-python",
   "name": "python",
   "nbconvert_exporter": "python",
   "pygments_lexer": "ipython3",
   "version": "3.6.0"
  }
 },
 "nbformat": 4,
 "nbformat_minor": 0
}
