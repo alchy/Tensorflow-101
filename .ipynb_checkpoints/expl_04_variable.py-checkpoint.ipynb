{
 "cells": [
  {
   "cell_type": "markdown",
   "metadata": {},
   "source": [
    "# Typ Variable"
   ]
  },
  {
   "cell_type": "code",
   "execution_count": 1,
   "metadata": {
    "collapsed": false
   },
   "outputs": [],
   "source": [
    "import tensorflow as tf"
   ]
  },
  {
   "cell_type": "markdown",
   "metadata": {},
   "source": [
    "Typ variable (proměnná) se používá pro uložení parametrů, které jsou při procesu učení  modifikovány. Pokud nechceme optimalizačním funkcím Tensorflow dovolit, aby při procesu učení proměnnou mělily, pak jako parametr při definici proměnné použijeme trainable=False (default je True). Novou proměnnou definujeme například takto:"
   ]
  },
  {
   "cell_type": "code",
   "execution_count": 6,
   "metadata": {
    "collapsed": false
   },
   "outputs": [],
   "source": [
    "a = tf.Variable(42.0, trainable=False)\n",
    "b = tf.Variable((1, 2, 3, 4))\n",
    "c = tf.Variable(tf.random_uniform([3, 3], -1, 1), name=\"c\") "
   ]
  },
  {
   "cell_type": "markdown",
   "metadata": {},
   "source": [
    "Funkce get_shape slouží pro získání informace o 'rozměru' tensoru. Na příkladě uvedeném níže je proměnná (a) zero-order tensor : skalár; (b) first-orter tensor : vektor; (c) second-order tensor: matice. "
   ]
  },
  {
   "cell_type": "code",
   "execution_count": 7,
   "metadata": {
    "collapsed": false
   },
   "outputs": [
    {
     "name": "stdout",
     "output_type": "stream",
     "text": [
      "(a) shape:  ()\n",
      "(b) shape:  (4,)\n",
      "(c) shape:  (3, 3)\n"
     ]
    }
   ],
   "source": [
    "print('(a) shape: ', a.get_shape())\n",
    "print('(b) shape: ', b.get_shape())\n",
    "print('(c) shape: ', c.get_shape())"
   ]
  },
  {
   "cell_type": "markdown",
   "metadata": {},
   "source": [
    "Vytvářet tensory typu variable je možné i pomocí funkce tf.get_variable. Tato funkce vyžaduje parametr 'Variable name' : 'jméno proměnné'. 'Variable name' jednoznačně identifikuje proměnnou v Grafu."
   ]
  },
  {
   "cell_type": "code",
   "execution_count": 8,
   "metadata": {
    "collapsed": false
   },
   "outputs": [],
   "source": [
    "x = tf.get_variable(\"x\", shape=(), initializer=tf.zeros_initializer())\n",
    "y = tf.get_variable(\"y\", [4], initializer=tf.constant_initializer(0.0))\n",
    "z = tf.get_variable(\"z\", [3, 3], initializer=tf.random_normal_initializer())"
   ]
  },
  {
   "cell_type": "code",
   "execution_count": 9,
   "metadata": {
    "collapsed": false
   },
   "outputs": [
    {
     "name": "stdout",
     "output_type": "stream",
     "text": [
      "x shape:  ()\n",
      "y shape:  (4,)\n",
      "z shape:  (3, 3)\n"
     ]
    }
   ],
   "source": [
    "print('x shape: ', x.get_shape())\n",
    "print('y shape: ', y.get_shape())\n",
    "print('z shape: ', z.get_shape())"
   ]
  },
  {
   "cell_type": "markdown",
   "metadata": {},
   "source": [
    "# Typ Variable - inicializace, metoda global_variables_initializer()"
   ]
  },
  {
   "cell_type": "markdown",
   "metadata": {},
   "source": [
    "Pro typ Variable, oproti ostatním typům, vždy potřebujeme provést počáteční inicializaci."
   ]
  },
  {
   "cell_type": "code",
   "execution_count": 10,
   "metadata": {
    "collapsed": true
   },
   "outputs": [],
   "source": [
    "sess = tf.Session()\n",
    "sess.run(tf.global_variables_initializer())"
   ]
  },
  {
   "cell_type": "code",
   "execution_count": 11,
   "metadata": {
    "collapsed": false
   },
   "outputs": [
    {
     "name": "stdout",
     "output_type": "stream",
     "text": [
      "(a):  42.0\n",
      "(b):  [1 2 3 4]\n",
      "(c):  [[-0.84106374 -0.33695173  0.62760663]\n",
      " [-0.85483694  0.1840713   0.61371231]\n",
      " [ 0.55979395  0.44429755 -0.10017323]]\n"
     ]
    }
   ],
   "source": [
    "print('(a): ', a.eval(session=sess))\n",
    "print('(b): ', b.eval(session=sess))\n",
    "print('(c): ', c.eval(session=sess))"
   ]
  },
  {
   "cell_type": "code",
   "execution_count": 12,
   "metadata": {
    "collapsed": false
   },
   "outputs": [
    {
     "name": "stdout",
     "output_type": "stream",
     "text": [
      "(x):  0.0\n",
      "(y):  [ 0.  0.  0.  0.]\n",
      "(z):  [[ 0.60535711 -2.2907331   1.29542804]\n",
      " [ 1.83471262  0.01551907  0.68117017]\n",
      " [ 0.49631745  1.70548594  0.21026595]]\n"
     ]
    }
   ],
   "source": [
    "print('(x): ', x.eval(session=sess))\n",
    "print('(y): ', y.eval(session=sess))\n",
    "print('(z): ', z.eval(session=sess))"
   ]
  },
  {
   "cell_type": "code",
   "execution_count": 13,
   "metadata": {
    "collapsed": true
   },
   "outputs": [],
   "source": [
    "sess.close()"
   ]
  },
  {
   "cell_type": "markdown",
   "metadata": {},
   "source": [
    "# Typ Variable - inicializace, metoda initializer.run()"
   ]
  },
  {
   "cell_type": "code",
   "execution_count": 15,
   "metadata": {
    "collapsed": true
   },
   "outputs": [],
   "source": [
    "sess = tf.Session()\n",
    "sess.run(tf.global_variables_initializer())"
   ]
  },
  {
   "cell_type": "markdown",
   "metadata": {},
   "source": [
    "Provést inicializaci Tensouru Variable můžeme i pomocí metody initializer."
   ]
  },
  {
   "cell_type": "code",
   "execution_count": 16,
   "metadata": {
    "collapsed": false
   },
   "outputs": [],
   "source": [
    "a.initializer.run(session=sess)\n",
    "b.initializer.run(session=sess)\n",
    "c.initializer.run(session=sess)"
   ]
  },
  {
   "cell_type": "code",
   "execution_count": 18,
   "metadata": {
    "collapsed": false
   },
   "outputs": [
    {
     "name": "stdout",
     "output_type": "stream",
     "text": [
      "(a):  42.0\n",
      "(b):  [1 2 3 4]\n",
      "(c):  [[-0.20951295 -0.32593584  0.98399758]\n",
      " [ 0.15748119 -0.59481239  0.57189703]\n",
      " [ 0.05034971  0.62448668  0.3363421 ]]\n"
     ]
    }
   ],
   "source": [
    "print('(a): ', a.eval(session=sess))\n",
    "print('(b): ', b.eval(session=sess))\n",
    "print('(c): ', c.eval(session=sess))"
   ]
  },
  {
   "cell_type": "code",
   "execution_count": 17,
   "metadata": {
    "collapsed": true
   },
   "outputs": [],
   "source": [
    "x.initializer.run(session=sess)\n",
    "y.initializer.run(session=sess)\n",
    "z.initializer.run(session=sess)"
   ]
  },
  {
   "cell_type": "code",
   "execution_count": 19,
   "metadata": {
    "collapsed": false
   },
   "outputs": [
    {
     "name": "stdout",
     "output_type": "stream",
     "text": [
      "(x):  0.0\n",
      "(y):  [ 0.  0.  0.  0.]\n",
      "(z):  [[-0.03822499  0.02282218  0.56976432]\n",
      " [ 0.26900336  1.1861012  -0.72477859]\n",
      " [-1.21657956 -0.23759468 -0.61177611]]\n"
     ]
    }
   ],
   "source": [
    "print('(x): ', x.eval(session=sess))\n",
    "print('(y): ', y.eval(session=sess))\n",
    "print('(z): ', z.eval(session=sess))"
   ]
  },
  {
   "cell_type": "code",
   "execution_count": null,
   "metadata": {
    "collapsed": true
   },
   "outputs": [],
   "source": [
    "sess.close()"
   ]
  },
  {
   "cell_type": "markdown",
   "metadata": {},
   "source": [
    "# Typ Variable - další operace"
   ]
  },
  {
   "cell_type": "markdown",
   "metadata": {},
   "source": [
    "Přiřazení hodnoty (setter) proměnné <b>x</b>."
   ]
  },
  {
   "cell_type": "code",
   "execution_count": 22,
   "metadata": {
    "collapsed": false
   },
   "outputs": [],
   "source": [
    "assignment = x.assign(1)"
   ]
  },
  {
   "cell_type": "markdown",
   "metadata": {},
   "source": [
    "Přiřazení musíme volat z platné session:"
   ]
  },
  {
   "cell_type": "code",
   "execution_count": 23,
   "metadata": {
    "collapsed": false
   },
   "outputs": [
    {
     "name": "stdout",
     "output_type": "stream",
     "text": [
      "x after init:  0.0\n",
      "x after assignment:  1.0\n"
     ]
    }
   ],
   "source": [
    "sess = tf.Session()\n",
    "sess.run(tf.global_variables_initializer())\n",
    "print('x after init: ', x.eval(session=sess))\n",
    "sess.run(assignment)\n",
    "print('x after assignment: ', x.eval(session=sess))"
   ]
  },
  {
   "cell_type": "markdown",
   "metadata": {},
   "source": [
    "Na Tensor typu Variable nemůže být použita operace reshape, např. n.reshape(n, [2, 6])."
   ]
  },
  {
   "cell_type": "code",
   "execution_count": 24,
   "metadata": {
    "collapsed": false
   },
   "outputs": [],
   "source": [
    "sess.close()"
   ]
  },
  {
   "cell_type": "markdown",
   "metadata": {},
   "source": [
    "# Odkazy:"
   ]
  },
  {
   "cell_type": "markdown",
   "metadata": {},
   "source": [
    "https://www.tensorflow.org/programmers_guide/variables"
   ]
  }
 ],
 "metadata": {
  "kernelspec": {
   "display_name": "Python 3.6",
   "language": "python",
   "name": "python3.6"
  },
  "language_info": {
   "codemirror_mode": {
    "name": "ipython",
    "version": 3
   },
   "file_extension": ".py",
   "mimetype": "text/x-python",
   "name": "python",
   "nbconvert_exporter": "python",
   "pygments_lexer": "ipython3",
   "version": "3.6.0"
  }
 },
 "nbformat": 4,
 "nbformat_minor": 0
}
