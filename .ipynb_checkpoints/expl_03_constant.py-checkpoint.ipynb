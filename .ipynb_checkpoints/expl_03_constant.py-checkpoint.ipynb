{
 "cells": [
  {
   "cell_type": "markdown",
   "metadata": {},
   "source": [
    "# Typ constant (konstanta)"
   ]
  },
  {
   "cell_type": "markdown",
   "metadata": {},
   "source": [
    "Typ constant je specifický kontejner pro uchování tensorů, jejichž hodnota nebude v průběhu výpočetních operací nad grafem měněna (once you set it, you can't change it). Tensor typu constant může být:"
   ]
  },
  {
   "cell_type": "markdown",
   "metadata": {},
   "source": [
    "- jediná hodnota - skalár\n",
    "- jednorozměrné pole hodnot - vektor\n",
    "- vícerozměrné pole hodnot - matice"
   ]
  },
  {
   "cell_type": "code",
   "execution_count": 1,
   "metadata": {
    "collapsed": true
   },
   "outputs": [],
   "source": [
    "import tensorflow as tf"
   ]
  },
  {
   "cell_type": "markdown",
   "metadata": {},
   "source": [
    "Tensor variable může být definován například takto:"
   ]
  },
  {
   "cell_type": "code",
   "execution_count": 23,
   "metadata": {
    "collapsed": true
   },
   "outputs": [],
   "source": [
    "a = tf.constant(21.0)\n",
    "b = tf.constant(21.0)"
   ]
  },
  {
   "cell_type": "markdown",
   "metadata": {},
   "source": [
    "# Vytvoření Grafu"
   ]
  },
  {
   "cell_type": "markdown",
   "metadata": {},
   "source": [
    "Voláním API funkcí Tensorflow sestavujeme graf. V grafu definujeme výpočetní operace."
   ]
  },
  {
   "cell_type": "markdown",
   "metadata": {},
   "source": [
    "![alt text](pictures/tf_simple_add_graph.png  \"Simple Add Graph\")"
   ]
  },
  {
   "cell_type": "code",
   "execution_count": 24,
   "metadata": {
    "collapsed": true
   },
   "outputs": [],
   "source": [
    "c = tf.add(a, b)\n",
    "d = tf.add(b, c)"
   ]
  },
  {
   "cell_type": "markdown",
   "metadata": {},
   "source": [
    "Session object obaluje prostředí ve kterém probíhají výpočetní operace. Zajišťuje alokaci paměti pro tensory. Před spuštěním výpočtu nad grafem je vždy nutné Session vytvořit."
   ]
  },
  {
   "cell_type": "code",
   "execution_count": 26,
   "metadata": {
    "collapsed": true
   },
   "outputs": [],
   "source": [
    "sess = tf.Session()"
   ]
  },
  {
   "cell_type": "markdown",
   "metadata": {},
   "source": [
    "# Spuštění výpočtu metodou eval()"
   ]
  },
  {
   "cell_type": "markdown",
   "metadata": {},
   "source": [
    "Funkce eval() - evaluate - spouští výpočet grafu."
   ]
  },
  {
   "cell_type": "code",
   "execution_count": 27,
   "metadata": {
    "collapsed": false
   },
   "outputs": [],
   "source": [
    "# při každém volání eval je proveden výpočet všech souvisejících operací grafu \n",
    "res_c = c.eval(session=sess)\n",
    "res_d = d.eval(session=sess)"
   ]
  },
  {
   "cell_type": "code",
   "execution_count": 28,
   "metadata": {
    "collapsed": false
   },
   "outputs": [
    {
     "name": "stdout",
     "output_type": "stream",
     "text": [
      "42.0 63.0\n"
     ]
    }
   ],
   "source": [
    "print(res_c, res_d)"
   ]
  },
  {
   "cell_type": "markdown",
   "metadata": {},
   "source": [
    "Nakonec uvolníme alokované zdroje Session."
   ]
  },
  {
   "cell_type": "code",
   "execution_count": 29,
   "metadata": {
    "collapsed": true
   },
   "outputs": [],
   "source": [
    "sess.close()"
   ]
  },
  {
   "cell_type": "markdown",
   "metadata": {},
   "source": [
    "# Spuštění výpočtu metodou run()"
   ]
  },
  {
   "cell_type": "markdown",
   "metadata": {},
   "source": [
    "Oproti metodě eval(), která vždy provede výpočet nad příslušnou částí grafu samostatně, metoda run() spustí výpočet příslušných částí grafu pouze jednou a může vracet výsledků zároveň."
   ]
  },
  {
   "cell_type": "code",
   "execution_count": 8,
   "metadata": {
    "collapsed": false
   },
   "outputs": [
    {
     "name": "stdout",
     "output_type": "stream",
     "text": [
      "42.0 63.0\n"
     ]
    }
   ],
   "source": [
    "import tensorflow as tf\n",
    "\n",
    "a = tf.constant(21.0)\n",
    "b = tf.constant(21.0)\n",
    "\n",
    "c = tf.add(a, b)\n",
    "d = tf.add(b, c)\n",
    "\n",
    "sess = tf.Session()\n",
    "\n",
    "# výpočet nad příslušnými částmi grafu se pro (c) a (d) provede pouze jednou\n",
    "# funkce run vrací více výsledků jako python list\n",
    "res_c, res_d = sess.run([c, d])\n",
    "\n",
    "print(res_c, res_d)\n",
    "sess.close()"
   ]
  },
  {
   "cell_type": "markdown",
   "metadata": {},
   "source": [
    "# Více nezávislých Session"
   ]
  },
  {
   "cell_type": "markdown",
   "metadata": {},
   "source": [
    "Session může být spuštěno více, pro Tensory každé session je alokován samostatný prostor. Změna hodnoty Tensoru v jedné Session tedy neovlivní hodnotu Tensoru v jiné Session."
   ]
  },
  {
   "cell_type": "code",
   "execution_count": 9,
   "metadata": {
    "collapsed": false
   },
   "outputs": [
    {
     "name": "stdout",
     "output_type": "stream",
     "text": [
      "--- Session 1 --- \n",
      "1\n",
      "2\n",
      "3\n",
      "--- Session 2 --- \n",
      "1\n",
      "2\n",
      "3\n",
      "--- Session 1 --- \n",
      "4\n",
      "5\n",
      "6\n"
     ]
    }
   ],
   "source": [
    "import tensorflow as tf\n",
    "\n",
    "# Constant and Variable\n",
    "one = tf.constant(1)\n",
    "counter = tf.Variable(0, name=\"counter\")\n",
    "\n",
    "# Graph operation\n",
    "result = tf.assign(counter, tf.add(counter, one))\n",
    "\n",
    "# alokovat 2x Session\n",
    "sess1 = tf.Session()\n",
    "sess2 = tf.Session()\n",
    "\n",
    "# inicializace Variable\n",
    "sess1.run(tf.global_variables_initializer())\n",
    "sess2.run(tf.global_variables_initializer())\n",
    "\n",
    "# výpočet, každá session pracuje ve vlastní alokací RAM pro Tensor\n",
    "print('--- Session 1 --- ')\n",
    "for _ in range(3):\n",
    "    print(sess1.run(result))\n",
    "print('--- Session 2 --- ')\n",
    "for _ in range(3):\n",
    "    print(sess2.run(result))\n",
    "print('--- Session 1 --- ')\n",
    "for _ in range(3):\n",
    "    print(sess1.run(result))\n",
    "    \n",
    "sess1.close()\n",
    "sess2.close()"
   ]
  },
  {
   "cell_type": "markdown",
   "metadata": {},
   "source": [
    "# Kdy použít interaktivní Session"
   ]
  },
  {
   "cell_type": "markdown",
   "metadata": {},
   "source": [
    "Funkce spuštěné v interaktivní Session přebírají InteractiveSession jako defaultní session ve kterém pracují a nepotřebují předávat parametr session. Interaktivní session, jak název napovídá, použijete při práci s Tensorflow v interaktivním režimu - na příkazové řádce. "
   ]
  },
  {
   "cell_type": "code",
   "execution_count": 10,
   "metadata": {
    "collapsed": false
   },
   "outputs": [
    {
     "name": "stdout",
     "output_type": "stream",
     "text": [
      "42.0\n"
     ]
    }
   ],
   "source": [
    "import tensorflow as tf\n",
    "\n",
    "a = tf.constant(21.0)\n",
    "b = tf.constant(21.0)\n",
    "\n",
    "c = tf.add(a, b)\n",
    "\n",
    "sess = tf.InteractiveSession()\n",
    "\n",
    "print(c.eval())"
   ]
  },
  {
   "cell_type": "code",
   "execution_count": 11,
   "metadata": {
    "collapsed": true
   },
   "outputs": [],
   "source": [
    "sess.close()"
   ]
  },
  {
   "cell_type": "markdown",
   "metadata": {},
   "source": [
    "# Výpis operací Grafu"
   ]
  },
  {
   "cell_type": "markdown",
   "metadata": {},
   "source": [
    "Uzavření Session metodou close nijak neovlivní existenci grafu v paměti, dojde pouze k uvolnění paměťi tensorů alokovaných v rámci Session."
   ]
  },
  {
   "cell_type": "code",
   "execution_count": 12,
   "metadata": {
    "collapsed": false
   },
   "outputs": [
    {
     "data": {
      "text/plain": [
       "[<tf.Operation 'Const' type=Const>,\n",
       " <tf.Operation 'Const_1' type=Const>,\n",
       " <tf.Operation 'Add' type=Add>,\n",
       " <tf.Operation 'Add_1' type=Add>,\n",
       " <tf.Operation 'Const_2' type=Const>,\n",
       " <tf.Operation 'Const_3' type=Const>,\n",
       " <tf.Operation 'Add_2' type=Add>,\n",
       " <tf.Operation 'Add_3' type=Add>,\n",
       " <tf.Operation 'Const_4' type=Const>,\n",
       " <tf.Operation 'counter/initial_value' type=Const>,\n",
       " <tf.Operation 'counter' type=VariableV2>,\n",
       " <tf.Operation 'counter/Assign' type=Assign>,\n",
       " <tf.Operation 'counter/read' type=Identity>,\n",
       " <tf.Operation 'Add_4' type=Add>,\n",
       " <tf.Operation 'Assign' type=Assign>,\n",
       " <tf.Operation 'init' type=NoOp>,\n",
       " <tf.Operation 'init_1' type=NoOp>,\n",
       " <tf.Operation 'Const_5' type=Const>,\n",
       " <tf.Operation 'Const_6' type=Const>,\n",
       " <tf.Operation 'Add_5' type=Add>]"
      ]
     },
     "execution_count": 12,
     "metadata": {},
     "output_type": "execute_result"
    }
   ],
   "source": [
    "sess.graph.get_operations()"
   ]
  },
  {
   "cell_type": "markdown",
   "metadata": {},
   "source": [
    "# Typ constant - další operace s typem constant"
   ]
  },
  {
   "cell_type": "markdown",
   "metadata": {},
   "source": [
    "Typ constant a jeho nejpoužívanější metody:"
   ]
  },
  {
   "cell_type": "code",
   "execution_count": 20,
   "metadata": {
    "collapsed": false
   },
   "outputs": [
    {
     "name": "stdout",
     "output_type": "stream",
     "text": [
      "(a) shape: \n",
      " (2, 1)\n",
      "(a) values: \n",
      " [[ 21.]\n",
      " [ 21.]]\n",
      "\n",
      "tensor (a) reshape: \n",
      "(a) shape: \n",
      " (1, 2)\n",
      "(a) values: \n",
      " [[ 21.  21.]]\n"
     ]
    }
   ],
   "source": [
    "import tensorflow as tf\n",
    "\n",
    "a = tf.constant([[21.0], [21.0]])\n",
    "\n",
    "sess = tf.InteractiveSession()\n",
    "\n",
    "# získání tvaru tensoru typu constant\n",
    "print('(a) shape: \\n', a.get_shape())\n",
    "print('(a) values: \\n', a.eval())\n",
    "print()\n",
    "# změna tvaru tensoru typu constant\n",
    "print('tensor (a) reshape: ')\n",
    "a = tf.reshape(a, shape=[1, -1])\n",
    "print('(a) shape: \\n', a.get_shape())\n",
    "print('(a) values: \\n', a.eval())\n",
    "\n",
    "sess.close()"
   ]
  }
 ],
 "metadata": {
  "kernelspec": {
   "display_name": "Python 3.6",
   "language": "python",
   "name": "python3.6"
  },
  "language_info": {
   "codemirror_mode": {
    "name": "ipython",
    "version": 3
   },
   "file_extension": ".py",
   "mimetype": "text/x-python",
   "name": "python",
   "nbconvert_exporter": "python",
   "pygments_lexer": "ipython3",
   "version": "3.6.0"
  }
 },
 "nbformat": 4,
 "nbformat_minor": 0
}
