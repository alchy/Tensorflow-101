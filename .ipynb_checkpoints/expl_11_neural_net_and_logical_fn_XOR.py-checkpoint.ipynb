{
 "cells": [
  {
   "cell_type": "markdown",
   "metadata": {},
   "source": [
    "# Více neuronů více ví - neuronová síť klasifikuje funkci XOR"
   ]
  },
  {
   "cell_type": "markdown",
   "metadata": {
    "collapsed": true
   },
   "source": [
    "![alt text](pictures/and_or_xor.png  \"AND, OR, XOR classification\")"
   ]
  },
  {
   "cell_type": "markdown",
   "metadata": {},
   "source": [
    "Jak je vidět na obrázku, pro řešení XOR musíme mít k dispozici dva klasifikátory. Napíšeme si tedy naši první neuronku. Naše  jednoduchá neuronová síť bude mít dva vstupy, jednu skrytou vrstvu (hidden layer) a jeden výstup."
   ]
  },
  {
   "cell_type": "code",
   "execution_count": 1,
   "metadata": {
    "collapsed": true
   },
   "outputs": [],
   "source": [
    "import tensorflow as tf\n",
    "import numpy as np\n",
    "import matplotlib.pyplot as plt"
   ]
  },
  {
   "cell_type": "code",
   "execution_count": 2,
   "metadata": {
    "collapsed": true
   },
   "outputs": [],
   "source": [
    "def show_csf_heat():\n",
    "    grain = 0.01\n",
    "    shape = int(1.0/grain)\n",
    "    clsfy = np.zeros(shape=(shape, shape))\n",
    "    \n",
    "    point_y_plt = 0\n",
    "    for point_y in np.arange(0., 1., grain):\n",
    "    \n",
    "        point_x_plt = 0\n",
    "        for point_x in np.arange(0., 1., grain):\n",
    "            #print('y:', point_x_plt, ' x: ', point_y_plt)\n",
    "            clsfy[point_x_plt, point_y_plt] = \\\n",
    "                sess.run(prediction_output, feed_dict={x: [[point_x, point_y]]})[0][0]\n",
    "            point_x_plt = point_x_plt + 1\n",
    "            \n",
    "        point_y_plt = point_y_plt + 1\n",
    "        \n",
    "    plt.imshow(clsfy, origin=\"lower\", cmap='Blues_r', interpolation='nearest', extent=[0, 1, 0, 1])\n",
    "    plt.show()"
   ]
  },
  {
   "cell_type": "markdown",
   "metadata": {},
   "source": [
    "O něco lepší funkce pro vykreslení klasifikace než ta v předchozím notebooku."
   ]
  },
  {
   "cell_type": "code",
   "execution_count": 3,
   "metadata": {
    "collapsed": true
   },
   "outputs": [],
   "source": [
    "XOR_X  = [[0,0], [0,1], [1,0], [1,1]]\n",
    "XOR_Y  = [[0],   [1],   [1],   [0]]\n",
    "\n",
    "x_test = [[1,1], [0,0], [0,1], [1,0]]"
   ]
  },
  {
   "cell_type": "markdown",
   "metadata": {},
   "source": [
    "Naše tréningová data. X jsou vstupy, Y je výstup, který chceme neuronku naučit."
   ]
  },
  {
   "cell_type": "code",
   "execution_count": 4,
   "metadata": {
    "collapsed": false
   },
   "outputs": [],
   "source": [
    "with tf.name_scope('input'):\n",
    "    x = tf.placeholder(tf.float32, shape=[None, 2])\n",
    "\n",
    "with tf.name_scope('target'):\n",
    "    y = tf.placeholder(tf.float32, shape=[None, 1])"
   ]
  },
  {
   "cell_type": "markdown",
   "metadata": {},
   "source": [
    "Vstupy jako placeholder 'inputs' a výsledek, který chceme neuronku naučit jako 'target'."
   ]
  },
  {
   "cell_type": "markdown",
   "metadata": {},
   "source": [
    "![alt text](pictures/XOR_neuronka_annotated.png \"XOR neuronka\")"
   ]
  },
  {
   "cell_type": "code",
   "execution_count": 5,
   "metadata": {
    "collapsed": false
   },
   "outputs": [],
   "source": [
    "with tf.name_scope(\"network\") as scope:\n",
    "   \n",
    "    with tf.name_scope(\"hidden_layer\") as scope:\n",
    "        W1 = tf.Variable(tf.random_uniform([2,2], -1, 1), name = \"W1\")\n",
    "        b1 = tf.Variable([1.0], [.1], name = \"b1\")\n",
    "        prediction_hidden = tf.matmul(x, W1) + b1\n",
    "        activation_function_hidden  = tf.sigmoid(prediction_hidden)\n",
    "   \n",
    "    with tf.name_scope(\"output_layer\") as scope:\n",
    "        W2 = tf.Variable(tf.random_uniform([2,1], -1, 1), name = \"W2\")\n",
    "        b2 = tf.Variable([1.0], name = \"b2\")\n",
    "        prediction_output = tf.matmul(activation_function_hidden, W2) + b2"
   ]
  },
  {
   "cell_type": "markdown",
   "metadata": {},
   "source": [
    "Vstupní, abstraktní layer, zastává Tensor 'inputs'. Definuji skrytý laeyer (dva Perceptrony mají vstup v meshi). Výstupní layer sestává z jednoho neuronu. Ve scope hidden_layer pak 'activation_function_hidden' použije tradiční sigmoid aktivační funkci, výstup z neuronky většinou žádnou aktivační funkci nepoužívá."
   ]
  },
  {
   "cell_type": "code",
   "execution_count": 6,
   "metadata": {
    "collapsed": false
   },
   "outputs": [],
   "source": [
    "with tf.name_scope(\"training\") as scope:\n",
    "\n",
    "    with tf.name_scope(\"cost\") as scope:\n",
    "        cost_function = tf.nn.l2_loss(prediction_output - y)\n",
    "\n",
    "    with tf.name_scope(\"optimizer\") as scope:\n",
    "        #train = tf.train.AdamOptimizer().minimize(cost_function)\n",
    "        train = tf.train.MomentumOptimizer(0.2, 0.8).minimize(cost_function)\n",
    "        #train = tf.train.GradientDescentOptimizer(0.001).minimize(cost_function)"
   ]
  },
  {
   "cell_type": "markdown",
   "metadata": {},
   "source": [
    "V tomto jednoduchém příkladu si můžeme vyzkoušet hned několik aktivačních funkcí."
   ]
  },
  {
   "cell_type": "code",
   "execution_count": null,
   "metadata": {
    "collapsed": false
   },
   "outputs": [],
   "source": [
    "with tf.Session() as sess:\n",
    "    sess.run(tf.global_variables_initializer())\n",
    "    writer = tf.summary.FileWriter(\"./tensorboard_example\", sess.graph)\n",
    "\n",
    "    cost_function_result = 1000.0\n",
    "    training_epoch = -1\n",
    "\n",
    "    while cost_function_result > 0.01:\n",
    "        training_epoch += 1\n",
    "        _, cost_function_result = sess.run([train, cost_function], feed_dict={x: XOR_X, y: XOR_Y})  \n",
    "        if training_epoch % 10000 == 0:\n",
    "            print('epoch: ', training_epoch, ' cost: ', cost_function_result)\n",
    "            show_csf_heat()\n",
    "            \n",
    "    print('----- final weights and biases ------')\n",
    "    print('W1: ')\n",
    "    print(sess.run(W1))\n",
    "    print('b1: ')\n",
    "    print(sess.run(b1))\n",
    "    print('W2: ')\n",
    "    print(sess.run(W2))\n",
    "    print('b2: ')\n",
    "    print(sess.run(b2))\n",
    "    print()\n",
    "    print('----- test ------')\n",
    "\n",
    "    for test in x_test:\n",
    "        print(test[0], ' xor ', test[1], ' = ',\n",
    "            np.abs(np.round(sess.run(prediction_output, feed_dict={x: [test]}))))\n",
    "\n",
    "    show_csf_heat()"
   ]
  },
  {
   "cell_type": "markdown",
   "metadata": {},
   "source": [
    "Výsledek logické operace XOR na osách grafu [0, 0] a [1, 1]. Bílá plocha == 1, modrá plocha == 0."
   ]
  },
  {
   "cell_type": "code",
   "execution_count": null,
   "metadata": {
    "collapsed": true
   },
   "outputs": [],
   "source": []
  }
 ],
 "metadata": {
  "kernelspec": {
   "display_name": "Python 3.6",
   "language": "python",
   "name": "python3.6"
  },
  "language_info": {
   "codemirror_mode": {
    "name": "ipython",
    "version": 3
   },
   "file_extension": ".py",
   "mimetype": "text/x-python",
   "name": "python",
   "nbconvert_exporter": "python",
   "pygments_lexer": "ipython3",
   "version": "3.6.0"
  }
 },
 "nbformat": 4,
 "nbformat_minor": 0
}
