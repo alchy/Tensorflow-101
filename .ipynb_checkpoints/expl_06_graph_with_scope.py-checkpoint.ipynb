{
 "cells": [
  {
   "cell_type": "markdown",
   "metadata": {},
   "source": [
    "# Graph scoping - členění Grafu za pomoci name_scope"
   ]
  },
  {
   "cell_type": "markdown",
   "metadata": {},
   "source": [
    "tf.name_scope a tf.variable_scope přidává jménům objektů použitých ve scope jmenný prefix, který je stejný jako parametr scope. Používání name_scope pomůže zpřehlednit / oddělit / jednotlivé části grafu. Scope pro proměnné (variable_scope) přidává prefix k Tensorům Variable.  "
   ]
  },
  {
   "cell_type": "code",
   "execution_count": 1,
   "metadata": {
    "collapsed": false
   },
   "outputs": [],
   "source": [
    "import tensorflow as tf"
   ]
  },
  {
   "cell_type": "markdown",
   "metadata": {},
   "source": [
    "# Variable scope:"
   ]
  },
  {
   "cell_type": "code",
   "execution_count": 2,
   "metadata": {
    "collapsed": false
   },
   "outputs": [
    {
     "name": "stdout",
     "output_type": "stream",
     "text": [
      "one/v:0  shape:  ()\n"
     ]
    }
   ],
   "source": [
    "with tf.variable_scope(\"one\"):\n",
    "    v = tf.get_variable(\"v\", shape=(), initializer=tf.zeros_initializer())\n",
    "    print(v.name, ' shape: ', v.get_shape())"
   ]
  },
  {
   "cell_type": "markdown",
   "metadata": {},
   "source": [
    "Pokud bychom použili ve stejném variable_scope stejné jméno Tensoru Variable, pak je vrácena exception - ValueError: Variable one/v already exists. Parametr reuse = True však umožňuje název znovu použít. V tom případě budou objekty totožné."
   ]
  },
  {
   "cell_type": "code",
   "execution_count": 5,
   "metadata": {
    "collapsed": false
   },
   "outputs": [
    {
     "name": "stdout",
     "output_type": "stream",
     "text": [
      "one/v:0  shape:  ()\n"
     ]
    }
   ],
   "source": [
    "with tf.variable_scope(\"one\", reuse = True):\n",
    "    w = tf.get_variable(\"v\")\n",
    "    print(w.name, ' shape: ', w.get_shape())"
   ]
  },
  {
   "cell_type": "code",
   "execution_count": 6,
   "metadata": {
    "collapsed": false
   },
   "outputs": [
    {
     "data": {
      "text/plain": [
       "True"
      ]
     },
     "execution_count": 6,
     "metadata": {},
     "output_type": "execute_result"
    }
   ],
   "source": [
    "v is w"
   ]
  },
  {
   "cell_type": "code",
   "execution_count": 7,
   "metadata": {
    "collapsed": false
   },
   "outputs": [],
   "source": [
    "assignment_v = v.assign(21)"
   ]
  },
  {
   "cell_type": "markdown",
   "metadata": {},
   "source": [
    "# Scope operací Grafu:"
   ]
  },
  {
   "cell_type": "code",
   "execution_count": 9,
   "metadata": {
    "collapsed": false
   },
   "outputs": [],
   "source": [
    "with tf.name_scope('operations'):\n",
    "    vw = tf.add(v, w, name='add_wv')"
   ]
  },
  {
   "cell_type": "code",
   "execution_count": 10,
   "metadata": {
    "collapsed": false
   },
   "outputs": [
    {
     "name": "stdout",
     "output_type": "stream",
     "text": [
      "v.eval():  0.0  v.name:  one/v:0\n",
      "w.eval():  0.0  w.name:  one/v:0\n",
      "result:  0.0\n",
      "\n",
      "v.eval():  21.0  v.name:  one/v:0\n",
      "w.eval():  21.0  w.name:  one/v:0\n",
      "result:  42.0\n"
     ]
    }
   ],
   "source": [
    "with tf.Session() as sess:\n",
    "    sess.run(tf.global_variables_initializer())\n",
    "    res_vw = sess.run(vw)\n",
    "    print(\"v.eval(): \", v.eval(), \" v.name: \", v.name)\n",
    "    print(\"w.eval(): \", w.eval(), \" w.name: \", w.name)\n",
    "    print(\"result: \", res_vw)\n",
    "    print()\n",
    "    sess.run(assignment_v)\n",
    "    res_vw = sess.run(vw)\n",
    "    print(\"v.eval(): \", v.eval(), \" v.name: \", v.name)\n",
    "    print(\"w.eval(): \", w.eval(), \" w.name: \", w.name)\n",
    "    print(\"result: \", res_vw)"
   ]
  },
  {
   "cell_type": "markdown",
   "metadata": {},
   "source": [
    "# Co je to Tensorboard?"
   ]
  },
  {
   "cell_type": "markdown",
   "metadata": {},
   "source": [
    "Podívejme se teď na Tensorboard. Tensorboard slouží především k vizualizaci Grafu a vývoje hodnot prvků v grafu. Spouští na localhostu vlastní webovou službu.\n",
    "tensorboard.exe --logdir=\".\\tensorboard_example\" --port 9000"
   ]
  }
 ],
 "metadata": {
  "kernelspec": {
   "display_name": "Python 3.6",
   "language": "python",
   "name": "python3.6"
  },
  "language_info": {
   "codemirror_mode": {
    "name": "ipython",
    "version": 3
   },
   "file_extension": ".py",
   "mimetype": "text/x-python",
   "name": "python",
   "nbconvert_exporter": "python",
   "pygments_lexer": "ipython3",
   "version": "3.6.0"
  }
 },
 "nbformat": 4,
 "nbformat_minor": 0
}
