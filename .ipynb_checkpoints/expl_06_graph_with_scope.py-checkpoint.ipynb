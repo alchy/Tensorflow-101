{
 "cells": [
  {
   "cell_type": "markdown",
   "metadata": {},
   "source": [
    "# Graph scoping - členění Grafu za pomoci name_scope"
   ]
  },
  {
   "cell_type": "markdown",
   "metadata": {},
   "source": [
    "tf.name_scope přidává všem objektů jmenný prefix stejný jako parametr name_scope. Používání name_scope není povinné, ale pomůže Vám zpřehlednit / oddělit / jednotlivé funkční celky grafu, což oceníte v případě, že se na graf výpočtu budete dívat v tensorboardu (viz. Co je to ten Tensroboard), nebo se pomocí jména scope můžete odkazovat na konkrétní Tensory použité ve scope.  "
   ]
  },
  {
   "cell_type": "code",
   "execution_count": 1,
   "metadata": {
    "collapsed": false
   },
   "outputs": [],
   "source": [
    "import tensorflow as tf\n",
    "\n",
    "with tf.name_scope('tensorflow_const'):\n",
    "    t = tf.constant(42.0, name='const_t')\n",
    "    u = tf.placeholder(tf.float32, [None, 4], name='placehldr_t')\n",
    "\n",
    "with tf.name_scope('tensorflow_oper'):\n",
    "    tu = tf.multiply(t, u, name='multiply_tu')\n",
    "    ut = tf.multiply(u, t, name='multiply_ut')\n",
    "    su = tf.add(tu, ut, name='sum_of_tu_ut')"
   ]
  },
  {
   "cell_type": "code",
   "execution_count": 2,
   "metadata": {
    "collapsed": false
   },
   "outputs": [
    {
     "name": "stdout",
     "output_type": "stream",
     "text": [
      "tu_res:  [[  42.   84.  126.  168.]]\n",
      "ut_res:  [[  42.   84.  126.  168.]]\n",
      "su_res:  [[  84.  168.  252.  336.]]\n"
     ]
    }
   ],
   "source": [
    "with tf.Session() as sess:\n",
    "    writer = tf.summary.FileWriter(\"./tensorboard_example\", sess.graph)\n",
    "    data_feed = [[1., 2., 3., 4.]]\n",
    "    tu_res, ut_res, su_res = sess.run([tu, ut, su], feed_dict={u: data_feed})\n",
    "    print(\"tu_res: \", tu_res)\n",
    "    print(\"ut_res: \", ut_res)\n",
    "    print(\"su_res: \", su_res)"
   ]
  },
  {
   "cell_type": "markdown",
   "metadata": {},
   "source": [
    "# Co je to ten Tensorboard?"
   ]
  },
  {
   "cell_type": "markdown",
   "metadata": {},
   "source": [
    "Podívejme se teď na Tensorboard. Tensorboard slouží především k vizualizaci Grafu a vývoje hodnot prvků v grafu. Spouští na localhostu vlastní webovou službu.\n",
    "tensorboard.exe --logdir=\".\\tensorboard_example\" --port 9000"
   ]
  }
 ],
 "metadata": {
  "kernelspec": {
   "display_name": "Python 3.6",
   "language": "python",
   "name": "python3.6"
  },
  "language_info": {
   "codemirror_mode": {
    "name": "ipython",
    "version": 3
   },
   "file_extension": ".py",
   "mimetype": "text/x-python",
   "name": "python",
   "nbconvert_exporter": "python",
   "pygments_lexer": "ipython3",
   "version": "3.6.0"
  }
 },
 "nbformat": 4,
 "nbformat_minor": 0
}
