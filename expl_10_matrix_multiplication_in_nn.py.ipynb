{
 "cells": [
  {
   "cell_type": "markdown",
   "metadata": {},
   "source": [
    "# Násobení matic"
   ]
  },
  {
   "cell_type": "markdown",
   "metadata": {},
   "source": [
    "<table><tbody>\n",
    "   <tr>\n",
    "      <td>\n",
    "         <table>\n",
    "            <tbody><tr><th>Matice A</th><th>W<span class=\"subIndex\">1</span></th><th>W<span class=\"subIndex\">2</span></th><th>W<span class=\"subIndex\">3</span></th></tr><tr><th>Perceptron 1</th><td title=\"[1,1]\">0.9</td><td title=\"[1,2]\">0.3</td><td title=\"[1,3]\">0.4</td></tr><tr><th>Perceptron 2</th><td title=\"[2,1]\">0.2</td><td title=\"[2,2]\">0.8</td><td title=\"[2,3]\">0.2</td></tr><tr><th>Perceptron 3</th><td title=\"[3,1]\">0.1</td><td title=\"[3,2]\">0.5</td><td title=\"[3,3]\">0.6</td></tr></tbody>\n",
    "         </table>\n",
    "       </td>\n",
    "       <td>\n",
    "       x\n",
    "       </td>\n",
    "       <td>\n",
    "          <table>\n",
    "            <tbody><tr><th>Matice B</th><th>x<span class=\"subIndex\"></span></th></tr><tr><th>Input 1</th><td title=\"[1,1]\">0.9</td></tr><tr><th>Input 2</th><td title=\"[2,1]\">0.1</td></tr><tr><th>Input 3</th><td title=\"[3,1]\">0.8</td></tr></tbody>\n",
    "          </table>\n",
    "       </td>\n",
    "   </tr>\n",
    "</tbody></table>\n"
   ]
  },
  {
   "cell_type": "markdown",
   "metadata": {},
   "source": [
    "perceptron_1_output = sum_of((P1_W1 * x1) + (P1_W2 * x2) + (P1_W3 * x3))<br>\n",
    "perceptron_2_output = sum_of((P2_W1 * x1) + (P2_W2 * x2) + (P2_W3 * x3))<br>\n",
    "perceptron_3_output = sum_of((P3_W1 * x1) + (P3_W2 * x2) + (P3_W3 * x3))<br>"
   ]
  },
  {
   "cell_type": "markdown",
   "metadata": {},
   "source": [
    "<center><i>0.9 x 0.9 + 0.3 x 0.1 + 0.4 x 0.8 = 1.16</i></center>\n",
    "<br>\n",
    "<table>\n",
    "<tr><th></th><th>C<span class=\"subIndex\">1</span></th></tr><tr><th>1</th><td title=\"[1,1]\" class=\"pivot\">1.16</td></tr><tr><th>2</th><td title=\"[2,1]\">0</td></tr><tr><th>3</th><td title=\"[3,1]\">0</td></tr>\n",
    "</table>\n",
    "<center>0.2 x 0.9 + 0.8 x 0.1 + 0.2 x 0.8 = 0.42</center>\n",
    "<br>\n",
    "<table>\n",
    "<tbody><tr><th></th><th>C<span class=\"subIndex\">1</span></th></tr><tr><th>1</th><td title=\"[1,1]\">1.16</td></tr><tr><th>2</th><td title=\"[2,1]\" class=\"pivot\">0.42</td></tr><tr><th>3</th><td title=\"[3,1]\">0</td></tr></tbody>\n",
    "</table>\n",
    "<br>\n",
    "<center><i>0.1 x 0.9 + 0.5 x 0.1 + 0.6 x 0.8 = 0.62</i></center>\n",
    "<br>\n",
    "<table>\n",
    "<tbody><tr><th></th><th>C<span class=\"subIndex\">1</span></th></tr><tr><th>1</th><td title=\"[1,1]\">1.16</td></tr><tr><th>2</th><td title=\"[2,1]\">0.42</td></tr><tr><th>3</th><td title=\"[3,1]\">0.62</td></tr></tbody>\n",
    "<table>"
   ]
  },
  {
   "cell_type": "markdown",
   "metadata": {},
   "source": [
    "<table><tbody>\n",
    "   <tr>\n",
    "      <td>\n",
    "<table class=\"solutionTable\" align=\"center\"><tbody><tr><th>A</th><th>W<span class=\"subIndex\">1</span></th><th>W<span class=\"subIndex\">2</span></th><th>W<span class=\"subIndex\">3</span></th></tr><tr><th>Perceptron 1</th><td title=\"[1,1]\">0.3</td><td title=\"[1,2]\">0.1</td><td title=\"[1,3]\">0.5</td></tr><tr><th>Perceptron 2</th><td title=\"[2,1]\">0.1</td><td title=\"[2,2]\">0.2</td><td title=\"[2,3]\">0.7</td></tr></tbody></table>\n",
    "       </td>\n",
    "       <td>\n",
    "       x\n",
    "       </td>\n",
    "       <td>\n",
    "<table class=\"solutionTable\" align=\"center\"><tbody><tr><th>B</th><th>B<span class=\"subIndex\">1</span></th></tr><tr><th>Input 1</th><td title=\"[1,1]\">1.15</td></tr><tr><th>Input 2</th><td title=\"[2,1]\">0.42</td></tr><tr><th>Input 3</th><td title=\"[3,1]\">0.62</td></tr></tbody></table>\n",
    " </td>\n",
    "   </tr>\n",
    "</tbody></table>"
   ]
  },
  {
   "cell_type": "markdown",
   "metadata": {
    "collapsed": true
   },
   "source": [
    "<i>0.3 x 1.15 + 0.1 x 0.42 + 0.5 x 0.62 = 0.697</i>\n",
    "<table class=\"solutionTable\" align=\"center\"><tbody><tr><th></th><th>C<span class=\"subIndex\">1</span></th></tr><tr><th>1</th><td title=\"[1,1]\" class=\"pivot\">0.697</td></tr><tr><th>2</th><td title=\"[2,1]\">0</td></tr></tbody></table>\n",
    "\n",
    "<i>0.1 x 1.15 + 0.2 x 0.42 + 0.7 x 0.62 = 0.633</i>\n",
    "<table class=\"solutionTable\" align=\"center\"><tbody><tr><th></th><th>C<span class=\"subIndex\">1</span></th></tr><tr><th>1</th><td title=\"[1,1]\">0.697</td></tr><tr><th>2</th><td title=\"[2,1]\" class=\"pivot\">0.633</td></tr></tbody></table>\n",
    "\n",
    "<table class=\"solutionTable\" align=\"center\"><tbody><tr><th></th><th>C<span class=\"subIndex\">1</span></th></tr><tr><th>1</th><td title=\"[1,1]\">0.697</td></tr><tr><th>2</th><td title=\"[2,1]\">0.633</td></tr></tbody></table>"
   ]
  },
  {
   "cell_type": "code",
   "execution_count": null,
   "metadata": {
    "collapsed": true
   },
   "outputs": [],
   "source": []
  },
  {
   "cell_type": "code",
   "execution_count": null,
   "metadata": {
    "collapsed": true
   },
   "outputs": [],
   "source": []
  }
 ],
 "metadata": {
  "kernelspec": {
   "display_name": "Python 3.6",
   "language": "python",
   "name": "python3.6"
  },
  "language_info": {
   "codemirror_mode": {
    "name": "ipython",
    "version": 3
   },
   "file_extension": ".py",
   "mimetype": "text/x-python",
   "name": "python",
   "nbconvert_exporter": "python",
   "pygments_lexer": "ipython3",
   "version": "3.6.0"
  }
 },
 "nbformat": 4,
 "nbformat_minor": 0
}
