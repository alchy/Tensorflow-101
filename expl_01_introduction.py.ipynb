{
 "cells": [
  {
   "cell_type": "markdown",
   "metadata": {},
   "source": [
    "# Tensorflow 101 a Machine Learning"
   ]
  },
  {
   "cell_type": "markdown",
   "metadata": {},
   "source": [
    "![alt text](pictures/roboti_small.jpg  \"Machine Learning\")"
   ]
  },
  {
   "cell_type": "markdown",
   "metadata": {},
   "source": [
    "Machine learning is a branch of statistics that uses samples to approximate functions.\n",
    "\n",
    "    We have a true underlying function or distribution that generates data, but we don't know what it is.\n",
    "    We can sample this function, and these samples form our training data.\n",
    "\n",
    "Example image captioning:\n",
    "\n",
    "    Function: f⋆(image)→description\n",
    "\n",
    ".\n",
    "Samples: data∈(image,description)\n",
    ".\n",
    "Note: since there are many valid descriptions, the description is a distribution in text space: description∼Text\n",
    "\n",
    "    .\n",
    "\n",
    "The goal of machine is to find models that:\n",
    "\n",
    "    Have enough representation power to closely approximate the true function.\n",
    "    Have an efficient algorithm that uses training data to find good approximations of the function.\n",
    "    And the approximation must generalize to return good outputs for unseen inputs.\n",
    "\n",
    "Possible applications of machine learning:\n",
    "\n",
    "    Convert inputs into another form - learn \"information\", extract it and express it. eg: image classification, image captioning.\n",
    "    Predict the missing or future values of a sequence - learn \"causality\", and predict it.\n",
    "    Synthesise similar outputs - learn \"structure\", and generate it.\n",
    "\n"
   ]
  },
  {
   "cell_type": "markdown",
   "metadata": {},
   "source": [
    "Co potřebujete od frameworku pro strojové učení?<br>\n",
    "- Hotové funkce pro mnoho ML algoritmů (podpora LSTM, RNN, conv, atd.).<br>\n",
    "- Škálovatelnost (large-scaling machine learning).<br>\n",
    "- Akceleraci výpoču (CPU, GPU/CUDA(no OpenCL), TPU/v1/v2) [http://timdettmers.com/2017/04/09/which-gpu-for-deep-learning/]"
   ]
  },
  {
   "cell_type": "markdown",
   "metadata": {},
   "source": [
    "![alt text](pictures/tpu-first_gen.jpg \"Google’s first generation Tensor Flow chip set\")"
   ]
  },
  {
   "cell_type": "markdown",
   "metadata": {},
   "source": [
    "![alt text](pictures/TPU_BOARD.jpg \"Google’s second generation Tensor Flow chip set\")"
   ]
  },
  {
   "cell_type": "markdown",
   "metadata": {},
   "source": [
    "- Přenositelnost - možnost systém provozovat na různých platformách.<br>\n",
    "- Použitelnost v provozu (stable). "
   ]
  },
  {
   "cell_type": "markdown",
   "metadata": {},
   "source": [
    "První release Tensorflow Listopad 2015, verze 0.5.0, tým Google Brain, Apache License 2.0. Google Tensorflow požívá mj.:\n",
    "- Google Photos Search\n",
    "- Google Translate\n",
    "- Speech Recognition\n",
    "- Google WaveNet (rolled out for use with Google Assistant)*\n",
    "- Google Search Ranking\n",
    "- Smart Reply (Deep Recurrent Network)\n",
    "- Google Cloud Vision API\n",
    "\n",
    "*https://deepmind.com/blog/wavenet-launches-google-assistant/, https://arxiv.org/pdf/1609.03499.pdf"
   ]
  },
  {
   "cell_type": "markdown",
   "metadata": {},
   "source": [
    "![alt text](pictures/smart_reply.jpg \"Smart Reply\")"
   ]
  },
  {
   "cell_type": "markdown",
   "metadata": {},
   "source": [
    "Core in C++ \n",
    "- Very low overhead"
   ]
  },
  {
   "cell_type": "markdown",
   "metadata": {},
   "source": [
    "Different front ends for specifying/driving the computation \n",
    "- C++ API\n",
    "- Python API (first non C++ language API, December 2015)\n",
    "- GO API\n",
    "- Java API"
   ]
  },
  {
   "cell_type": "markdown",
   "metadata": {},
   "source": [
    "![alt text](pictures/tensorflow_wepbage.jpg \"Tensorflow tutorials on Tensorflow page\")"
   ]
  },
  {
   "cell_type": "markdown",
   "metadata": {},
   "source": [
    "https://www.blog.google/topics/google-cloud/google-cloud-offer-tpus-machine-learning/"
   ]
  },
  {
   "cell_type": "markdown",
   "metadata": {},
   "source": [
    "![alt text](pictures/tpu-v2-1.width-1000.png \"Introducing Cloud TPUs\")"
   ]
  },
  {
   "cell_type": "markdown",
   "metadata": {},
   "source": [
    "# Tensorflow a NumPy"
   ]
  },
  {
   "cell_type": "code",
   "execution_count": 2,
   "metadata": {
    "collapsed": true
   },
   "outputs": [],
   "source": [
    "import tensorflow as tf\n",
    "import numpy as np\n"
   ]
  },
  {
   "cell_type": "markdown",
   "metadata": {},
   "source": [
    "# Hello TensorWorld!<br>Open & Close Session, prní Graf a typ constant."
   ]
  },
  {
   "cell_type": "markdown",
   "metadata": {},
   "source": [
    "TensorFlow je open source knihovna pro numerické výpočty za pomoci takzvaných data flow grafů. Graf sestává z nodů, které jsou mezi sebou vzájemně propojeny, tyto nody reprezentují různé matematické operace nad prvkem Tensor, kdy Tensor je ‚vektor‘, který v programu definujeme jako n-rozměrné pole."
   ]
  },
  {
   "cell_type": "markdown",
   "metadata": {},
   "source": [
    "![alt text](pictures/google_inception.png \"Google Inception\")"
   ]
  },
  {
   "cell_type": "markdown",
   "metadata": {},
   "source": [
    "* model that does image classification"
   ]
  }
 ],
 "metadata": {
  "kernelspec": {
   "display_name": "Python 3.6",
   "language": "python",
   "name": "python3.6"
  },
  "language_info": {
   "codemirror_mode": {
    "name": "ipython",
    "version": 3
   },
   "file_extension": ".py",
   "mimetype": "text/x-python",
   "name": "python",
   "nbconvert_exporter": "python",
   "pygments_lexer": "ipython3",
   "version": "3.6.0"
  }
 },
 "nbformat": 4,
 "nbformat_minor": 0
}
