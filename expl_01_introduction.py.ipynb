{
 "cells": [
  {
   "cell_type": "markdown",
   "metadata": {},
   "source": [
    "# Tensorflow 101 a Machine Learning"
   ]
  },
  {
   "cell_type": "markdown",
   "metadata": {},
   "source": [
    "![alt text](pictures/roboti_small.jpg  \"Machine Learning\")"
   ]
  },
  {
   "cell_type": "markdown",
   "metadata": {},
   "source": [
    "Co potřebujete od frameworku pro strojové učení?<br>\n",
    "- Hotové funkce pro mnoho ML algoritmů (podpora LSTM, RNN, conv, atd.).<br>\n",
    "- Škálovatelnost (large-scaling machine learning).<br>\n",
    "- Akceleraci výpoču (CPU, GPU/CUDA(no OpenCL), TPU/v1/v2)"
   ]
  },
  {
   "cell_type": "markdown",
   "metadata": {},
   "source": [
    "![alt text](pictures/tpu-first_gen.jpg \"Google’s first generation Tensor Flow chip set\")"
   ]
  },
  {
   "cell_type": "markdown",
   "metadata": {},
   "source": [
    "![alt text](pictures/TPU_BOARD.jpg \"Google’s second generation Tensor Flow chip set\")"
   ]
  },
  {
   "cell_type": "markdown",
   "metadata": {},
   "source": [
    "- Portabilitu, možnost systém provozovat na různých platformách.<br>\n",
    "- Stabilitu - použetelnost v provozu. "
   ]
  },
  {
   "cell_type": "markdown",
   "metadata": {},
   "source": [
    "První release Tensorflow Listopad 2015, verze 0.5.0, tým Google Brain, Apache License 2.0. Google Tensorflow požívá mj.:\n",
    "- Google Photos Search\n",
    "- Speech Recognition\n",
    "- Google Search Ranking\n",
    "- Smart Reply (Deep Recurrent Network)\n",
    "- Google Cloud Vision API"
   ]
  },
  {
   "cell_type": "markdown",
   "metadata": {},
   "source": [
    "![alt text](pictures/smart_reply.jpg \"Smart Reply\")"
   ]
  },
  {
   "cell_type": "markdown",
   "metadata": {},
   "source": [
    "Core in C++ \n",
    "- Very low overhead"
   ]
  },
  {
   "cell_type": "markdown",
   "metadata": {},
   "source": [
    "Different front ends for specifying/driving the computation \n",
    "- C++ API\n",
    "- Python API (first non C++ language API, December 2015)\n",
    "- GO API\n",
    "- Java API"
   ]
  },
  {
   "cell_type": "markdown",
   "metadata": {},
   "source": [
    "![alt text](pictures/tensorflow_wepbage.jpg \"Tensorflow tutorials on Tensorflow page\")"
   ]
  },
  {
   "cell_type": "markdown",
   "metadata": {},
   "source": [
    "# Tensorflow a NumPy"
   ]
  },
  {
   "cell_type": "code",
   "execution_count": 2,
   "metadata": {
    "collapsed": true
   },
   "outputs": [],
   "source": [
    "import tensorflow as tf\n",
    "import numpy as np\n"
   ]
  },
  {
   "cell_type": "markdown",
   "metadata": {},
   "source": [
    "# Hello TensorWorld!<br>Open & Close Session, prní Graf a typ constant."
   ]
  },
  {
   "cell_type": "markdown",
   "metadata": {},
   "source": [
    "TensorFlow je open source knihovna pro numerické výpočty za pomoci takzvaných data flow grafů. Graf sestává z nodů, které jsou mezi sebou vzájemně propojeny, tyto nody reprezentují různé matematické operace nad prvkem Tensor, kdy Tensor je ‚vektor‘, který v programu definujeme jako n-rozměrné pole."
   ]
  },
  {
   "cell_type": "markdown",
   "metadata": {},
   "source": [
    "![alt text](pictures/google_inception.png \"Google Inception\")"
   ]
  },
  {
   "cell_type": "markdown",
   "metadata": {},
   "source": [
    "* model that does image classification"
   ]
  },
  {
   "cell_type": "markdown",
   "metadata": {},
   "source": [
    "# Session, typ constant, math operation, spuštění výpočtu nad Grafem"
   ]
  },
  {
   "cell_type": "code",
   "execution_count": 10,
   "metadata": {
    "collapsed": true
   },
   "outputs": [],
   "source": [
    "import tensorflow as tf"
   ]
  },
  {
   "cell_type": "markdown",
   "metadata": {},
   "source": [
    "Typ constant."
   ]
  },
  {
   "cell_type": "code",
   "execution_count": 11,
   "metadata": {
    "collapsed": false
   },
   "outputs": [],
   "source": [
    "a = tf.constant(21.0)\n",
    "b = tf.constant(21.0)"
   ]
  },
  {
   "cell_type": "markdown",
   "metadata": {},
   "source": [
    "Voláním API funkcí Tensorflow vytvářáme Tensorflow Graf. Společně vytvoříme Graf, který provede operaci c = a + b."
   ]
  },
  {
   "cell_type": "code",
   "execution_count": 3,
   "metadata": {
    "collapsed": false
   },
   "outputs": [],
   "source": [
    "c = tf.add(a, b)"
   ]
  },
  {
   "cell_type": "markdown",
   "metadata": {},
   "source": [
    "Session object obaluje prostředí ve kterém probíhají výpočetní operace. Zajišťuje alokaci prostoru v paměti pro umístění Tensorů."
   ]
  },
  {
   "cell_type": "code",
   "execution_count": 4,
   "metadata": {
    "collapsed": true
   },
   "outputs": [],
   "source": [
    "sess = tf.Session()"
   ]
  },
  {
   "cell_type": "markdown",
   "metadata": {},
   "source": [
    "Funkce eval spustí výpočetní operaci Grafu."
   ]
  },
  {
   "cell_type": "code",
   "execution_count": 5,
   "metadata": {
    "collapsed": false
   },
   "outputs": [
    {
     "name": "stdout",
     "output_type": "stream",
     "text": [
      "42.0\n"
     ]
    }
   ],
   "source": [
    "print(c.eval(session=sess))"
   ]
  },
  {
   "cell_type": "markdown",
   "metadata": {},
   "source": [
    "Funkci eval můžeme použít i pro vypsání hodnoty constant: a, b."
   ]
  },
  {
   "cell_type": "code",
   "execution_count": 6,
   "metadata": {
    "collapsed": false
   },
   "outputs": [
    {
     "name": "stdout",
     "output_type": "stream",
     "text": [
      "21.0\n",
      "21.0\n"
     ]
    }
   ],
   "source": [
    "print(a.eval(session=sess))\n",
    "print(b.eval(session=sess))"
   ]
  },
  {
   "cell_type": "markdown",
   "metadata": {},
   "source": [
    "Je důležité uvolnit zdroje alokované Session."
   ]
  },
  {
   "cell_type": "code",
   "execution_count": 7,
   "metadata": {
    "collapsed": false
   },
   "outputs": [],
   "source": [
    "sess.close()"
   ]
  },
  {
   "cell_type": "markdown",
   "metadata": {},
   "source": [
    "# Kdy použít interaktivní session"
   ]
  },
  {
   "cell_type": "markdown",
   "metadata": {},
   "source": [
    "Pro 'default' Graph nepředáváme při volání funkcím parametr session=sess."
   ]
  },
  {
   "cell_type": "code",
   "execution_count": 4,
   "metadata": {
    "collapsed": false
   },
   "outputs": [
    {
     "name": "stdout",
     "output_type": "stream",
     "text": [
      "[21.0, 21.0]\n"
     ]
    }
   ],
   "source": [
    "import tensorflow as tf\n",
    "\n",
    "a = tf.Variable(21.0)\n",
    "b = tf.Variable(21.0, trainable=False)\n",
    "\n",
    "sess = tf.InteractiveSession()\n",
    "\n",
    "a.initializer.run()\n",
    "b.initializer.run()\n",
    "\n",
    "print(sess.run([a, b]))"
   ]
  },
  {
   "cell_type": "markdown",
   "metadata": {
    "collapsed": true
   },
   "source": [
    "# Dvě Session - nezávislé zdroje"
   ]
  },
  {
   "cell_type": "markdown",
   "metadata": {},
   "source": [
    "Stejných Session může být více, alokace Tensorů je unikátní pro každou session. Změna hodnoty Tensoru v jedné Session neovlivní hodnotu Tensoru v jiné Session. Zpočátku však nebudete spouštění více stejných session potřebovat."
   ]
  },
  {
   "cell_type": "code",
   "execution_count": 8,
   "metadata": {
    "collapsed": false
   },
   "outputs": [
    {
     "name": "stdout",
     "output_type": "stream",
     "text": [
      "--- Session 1 --- \n",
      "1\n",
      "2\n",
      "3\n",
      "--- Session 2 --- \n",
      "1\n",
      "2\n",
      "3\n",
      "--- Session 1 --- \n",
      "4\n",
      "5\n",
      "6\n"
     ]
    }
   ],
   "source": [
    "import tensorflow as tf\n",
    "\n",
    "# Constant and Variable\n",
    "one = tf.constant(1)\n",
    "counter = tf.Variable(0, name=\"counter\")\n",
    "\n",
    "# Graph operation\n",
    "result = tf.assign(counter, tf.add(counter, one))\n",
    "\n",
    "# alokovat 2x Session\n",
    "sess1 = tf.Session()\n",
    "sess2 = tf.Session()\n",
    "\n",
    "# inicializace Variable\n",
    "sess1.run(tf.global_variables_initializer())\n",
    "sess2.run(tf.global_variables_initializer())\n",
    "\n",
    "# výpočet, každá session pracuje ve vlastní alokací RAM pro Tensor\n",
    "print('--- Session 1 --- ')\n",
    "for _ in range(3):\n",
    "    print(sess1.run(result))\n",
    "print('--- Session 2 --- ')\n",
    "for _ in range(3):\n",
    "    print(sess2.run(result))\n",
    "print('--- Session 1 --- ')\n",
    "for _ in range(3):\n",
    "    print(sess1.run(result))"
   ]
  },
  {
   "cell_type": "markdown",
   "metadata": {
    "collapsed": true
   },
   "source": [
    "# Spuštění výpočtu nad Grafem - eval() vs. session.run()"
   ]
  },
  {
   "cell_type": "code",
   "execution_count": 21,
   "metadata": {
    "collapsed": true
   },
   "outputs": [],
   "source": [
    "import tensorflow as tf\n",
    "\n",
    "a = tf.constant(21.0)\n",
    "b = tf.constant(21.0)\n",
    "\n",
    "sess = tf.Session()\n",
    "c = tf.add(a, b)\n",
    "d = tf.div(tf.add(c, c), 2)\n",
    "\n",
    "sess.run(tf.global_variables_initializer())"
   ]
  },
  {
   "cell_type": "markdown",
   "metadata": {},
   "source": [
    "Při použití sess.run proběhne výpočet grafu pouze jednou a výstupem jsou v našem případy hodnoty <b>a</a> a <b>b</b>."
   ]
  },
  {
   "cell_type": "code",
   "execution_count": 22,
   "metadata": {
    "collapsed": false
   },
   "outputs": [
    {
     "name": "stdout",
     "output_type": "stream",
     "text": [
      "42.0 42.0\n",
      "42.0 42.0\n",
      "42.0 42.0\n"
     ]
    }
   ],
   "source": [
    "res_c, res_d = sess.run([c, d])\n",
    "print(res_c, res_d)\n",
    "\n",
    "rec_c = c.eval(session=sess)\n",
    "res_d = d.eval(session=sess)\n",
    "print(res_c, res_d)\n",
    "\n",
    "print(res_c, res_d)"
   ]
  },
  {
   "cell_type": "markdown",
   "metadata": {},
   "source": [
    "# Výpis operací Grafu"
   ]
  },
  {
   "cell_type": "code",
   "execution_count": 19,
   "metadata": {
    "collapsed": false
   },
   "outputs": [
    {
     "data": {
      "text/plain": [
       "[<tf.Operation 'Variable/initial_value' type=Const>,\n",
       " <tf.Operation 'Variable' type=VariableV2>,\n",
       " <tf.Operation 'Variable/Assign' type=Assign>,\n",
       " <tf.Operation 'Variable/read' type=Identity>,\n",
       " <tf.Operation 'Variable_1/initial_value' type=Const>,\n",
       " <tf.Operation 'Variable_1' type=VariableV2>,\n",
       " <tf.Operation 'Variable_1/Assign' type=Assign>,\n",
       " <tf.Operation 'Variable_1/read' type=Identity>,\n",
       " <tf.Operation 'a/initial_value' type=Const>,\n",
       " <tf.Operation 'a' type=VariableV2>,\n",
       " <tf.Operation 'a/Assign' type=Assign>,\n",
       " <tf.Operation 'a/read' type=Identity>,\n",
       " <tf.Operation 'Variable_2/initial_value' type=Const>,\n",
       " <tf.Operation 'Variable_2' type=VariableV2>,\n",
       " <tf.Operation 'Variable_2/Assign' type=Assign>,\n",
       " <tf.Operation 'Variable_2/read' type=Identity>,\n",
       " <tf.Operation 'Add' type=Add>,\n",
       " <tf.Operation 'Add_1' type=Add>,\n",
       " <tf.Operation 'div/y' type=Const>,\n",
       " <tf.Operation 'div' type=RealDiv>,\n",
       " <tf.Operation 'init' type=NoOp>,\n",
       " <tf.Operation 'Const' type=Const>,\n",
       " <tf.Operation 'Const_1' type=Const>,\n",
       " <tf.Operation 'Add_2' type=Add>,\n",
       " <tf.Operation 'Add_3' type=Add>,\n",
       " <tf.Operation 'div_1/y' type=Const>,\n",
       " <tf.Operation 'div_1' type=RealDiv>,\n",
       " <tf.Operation 'init_1' type=NoOp>,\n",
       " <tf.Operation 'Const_2' type=Const>,\n",
       " <tf.Operation 'Const_3' type=Const>,\n",
       " <tf.Operation 'Const_4' type=Const>,\n",
       " <tf.Operation 'Const_5' type=Const>,\n",
       " <tf.Operation 'Add_4' type=Add>,\n",
       " <tf.Operation 'Add_5' type=Add>,\n",
       " <tf.Operation 'div_2/y' type=Const>,\n",
       " <tf.Operation 'div_2' type=RealDiv>,\n",
       " <tf.Operation 'init_2' type=NoOp>,\n",
       " <tf.Operation 'Const_6' type=Const>,\n",
       " <tf.Operation 'Const_7' type=Const>,\n",
       " <tf.Operation 'Add_6' type=Add>,\n",
       " <tf.Operation 'Add_7' type=Add>,\n",
       " <tf.Operation 'div_3/y' type=Const>,\n",
       " <tf.Operation 'div_3' type=RealDiv>,\n",
       " <tf.Operation 'init_3' type=NoOp>]"
      ]
     },
     "execution_count": 19,
     "metadata": {},
     "output_type": "execute_result"
    }
   ],
   "source": [
    "sess.graph.get_operations()"
   ]
  },
  {
   "cell_type": "code",
   "execution_count": 23,
   "metadata": {
    "collapsed": true
   },
   "outputs": [],
   "source": [
    "sess.close()"
   ]
  },
  {
   "cell_type": "code",
   "execution_count": null,
   "metadata": {
    "collapsed": true
   },
   "outputs": [],
   "source": []
  }
 ],
 "metadata": {
  "kernelspec": {
   "display_name": "Python 3.6",
   "language": "python",
   "name": "python3.6"
  },
  "language_info": {
   "codemirror_mode": {
    "name": "ipython",
    "version": 3
   },
   "file_extension": ".py",
   "mimetype": "text/x-python",
   "name": "python",
   "nbconvert_exporter": "python",
   "pygments_lexer": "ipython3",
   "version": "3.6.0"
  }
 },
 "nbformat": 4,
 "nbformat_minor": 0
}
