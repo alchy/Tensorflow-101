{
 "cells": [
  {
   "cell_type": "markdown",
   "metadata": {},
   "source": [
    "# Machine Learning a Tensorflow - 101"
   ]
  },
  {
   "cell_type": "markdown",
   "metadata": {},
   "source": [
    "![alt text](pictures/roboti_small.jpg  \"Machine Learning\")"
   ]
  },
  {
   "cell_type": "markdown",
   "metadata": {},
   "source": [
    "# Strojové učení je odvětví statistiky, které používá vzorky dat pro aproximaci funkcí"
   ]
  },
  {
   "cell_type": "markdown",
   "metadata": {},
   "source": [
    "- máme funkci (distribuci), která produkuje data, ale nevíme, jak pracuje\n",
    "- můžeme tuto funkci (distribuci) vzorkovat a tyto <b>vzorky jsou naše tréningová data</b> (čím více dat, tím lépe)"
   ]
  },
  {
   "cell_type": "markdown",
   "metadata": {},
   "source": [
    "# Možné aplikace strojového učení"
   ]
  },
  {
   "cell_type": "markdown",
   "metadata": {},
   "source": [
    "- převádět vstupy do jiné formy: <b>extrahovat informaci a vyjádřit ji</b> (např. klasifikace obrázků)\n",
    "- předpovědět chybějící nebo budoucí hodnoty v sekvenci - <b>nalezení kauzality</b>"
   ]
  },
  {
   "cell_type": "markdown",
   "metadata": {},
   "source": [
    "# Úkolem strojového učení je najít model, který:"
   ]
  },
  {
   "cell_type": "markdown",
   "metadata": {},
   "source": [
    "- pomocí algoritmu používajícího <b>tréningová data</b> nalézt vhodnou aproximaci funkce\n",
    "- aproximace funkce musí být dostatečně obecná, aby byla schopna nalézt vhodné výsledky i pro data, která <b>nebyla součástí tréningu</b>"
   ]
  },
  {
   "cell_type": "markdown",
   "metadata": {},
   "source": [
    "# Co potřebujete od frameworku pro strojové učení?"
   ]
  },
  {
   "cell_type": "markdown",
   "metadata": {},
   "source": [
    "- Hotové funkce pro mnoho ML algoritmů (podpora LSTM, RNN, conv, atd.).<br>\n",
    "- Škálovatelnost (large-scaling machine learning).<br>\n",
    "- Akceleraci výpoču (CPU, GPU/CUDA(no OpenCL), TPU/v1/v2)\n",
    "- Přenositelnost - Tensorflow je multiplatformní (Android/Linux, Windows)<br>\n",
    "- Použitelnost v provozu (stable). "
   ]
  },
  {
   "cell_type": "markdown",
   "metadata": {},
   "source": [
    "# Za kterými službami Google je schován ML?"
   ]
  },
  {
   "cell_type": "markdown",
   "metadata": {},
   "source": [
    "- Google Photos Search\n",
    "- Google Translate\n",
    "- Speech Recognition\n",
    "- Google WaveNet (rolled out for use with Google Assistant)*\n",
    "- Google Search Ranking\n",
    "- Smart Reply (Deep Recurrent Network)\n",
    "- Google Cloud Vision API"
   ]
  },
  {
   "cell_type": "markdown",
   "metadata": {},
   "source": [
    "# První release Tensorflow Listopad 2015 "
   ]
  },
  {
   "cell_type": "markdown",
   "metadata": {},
   "source": [
    "v0.5.0, tým Google Brain, Apache License 2.0."
   ]
  },
  {
   "cell_type": "markdown",
   "metadata": {},
   "source": [
    "Core in C++ \n",
    "- Very low overhead"
   ]
  },
  {
   "cell_type": "markdown",
   "metadata": {},
   "source": [
    "# API podpora (will not change much since 1.3)"
   ]
  },
  {
   "cell_type": "markdown",
   "metadata": {},
   "source": [
    "- C++ API\n",
    "- Python API (first non C++ language API, December 2015)\n",
    "- GO API\n",
    "- Java API"
   ]
  },
  {
   "cell_type": "markdown",
   "metadata": {},
   "source": [
    "![alt text](pictures/tensorflow_stack.png \"Tensorflow Stack\")"
   ]
  },
  {
   "cell_type": "markdown",
   "metadata": {},
   "source": [
    "# Google cloud prostředí pro ML"
   ]
  },
  {
   "cell_type": "markdown",
   "metadata": {},
   "source": [
    "![alt text](pictures/tpu-v2-1.width-1000.png \"Introducing Cloud TPUs\")"
   ]
  },
  {
   "cell_type": "markdown",
   "metadata": {},
   "source": [
    "![alt text](pictures/TPUs.png \"Google’s second generation Tensor Flow chip set\")"
   ]
  },
  {
   "cell_type": "markdown",
   "metadata": {},
   "source": [
    "# Projděte si stánky Tensorflow!"
   ]
  },
  {
   "cell_type": "markdown",
   "metadata": {},
   "source": [
    "![alt text](pictures/tensorflow_wepbage.jpg \"Tensorflow tutorials on Tensorflow page\")"
   ]
  },
  {
   "cell_type": "markdown",
   "metadata": {},
   "source": [
    "# Odkazy:"
   ]
  },
  {
   "cell_type": "markdown",
   "metadata": {},
   "source": [
    "https://www.tensorflow.org/<br>\n",
    "https://deepmind.com/blog/wavenet-launches-google-assistant/<br> \n",
    "https://arxiv.org/pdf/1609.03499.pdf<br>\n",
    "https://www.blog.google/topics/google-cloud/google-cloud-offer-tpus-machine-learning/<br>\n",
    "https://timdettmers.com/2017/04/09/which-gpu-for-deep-learning/<br>"
   ]
  }
 ],
 "metadata": {
  "kernelspec": {
   "display_name": "Python 3.6",
   "language": "python",
   "name": "python3.6"
  },
  "language_info": {
   "codemirror_mode": {
    "name": "ipython",
    "version": 3
   },
   "file_extension": ".py",
   "mimetype": "text/x-python",
   "name": "python",
   "nbconvert_exporter": "python",
   "pygments_lexer": "ipython3",
   "version": "3.6.0"
  }
 },
 "nbformat": 4,
 "nbformat_minor": 0
}
