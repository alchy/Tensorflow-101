{
 "cells": [
  {
   "cell_type": "markdown",
   "metadata": {},
   "source": [
    "# Typ placeholder"
   ]
  },
  {
   "cell_type": "markdown",
   "metadata": {},
   "source": [
    "Pomocí placeholderu vkládáme data do Grafu."
   ]
  },
  {
   "cell_type": "code",
   "execution_count": 1,
   "metadata": {
    "collapsed": false
   },
   "outputs": [
    {
     "name": "stdout",
     "output_type": "stream",
     "text": [
      "a: \n",
      "[[ 1.  2.  3.  4.]\n",
      " [ 5.  6.  7.  8.]]\n",
      "b: \n",
      "[[ 9.  0.  1.  2.]\n",
      " [ 3.  4.  5.  6.]]\n",
      "c = a + b: \n",
      "[[ 10.   2.   4.   6.]\n",
      " [  8.  10.  12.  14.]]\n"
     ]
    }
   ],
   "source": [
    "import tensorflow as tf\n",
    "\n",
    "nr_inputs = 2\n",
    "a = tf.placeholder(tf.float32, [nr_inputs, 4], name='muj_placeholder_a')\n",
    "b = tf.placeholder(tf.float32, [nr_inputs, 4], name='muj_placeholder_b')\n",
    "\n",
    "c = tf.add(a, b)\n",
    "\n",
    "data_feed_a = [[1., 2., 3., 4.], [5., 6., 7., 8.]]\n",
    "data_feed_b = [[9., 0., 1., 2.], [3., 4., 5., 6.]]\n",
    "\n",
    "sess = tf.Session()\n",
    "\n",
    "res_a, res_b, res_c = sess.run([a, b, c], feed_dict={a: data_feed_a, b: data_feed_b})\n",
    "print('a: ')\n",
    "print(res_a)\n",
    "print('b: ')\n",
    "print(res_b)\n",
    "print('c = a + b: ')\n",
    "print(res_c)"
   ]
  },
  {
   "cell_type": "code",
   "execution_count": 2,
   "metadata": {
    "collapsed": true
   },
   "outputs": [],
   "source": [
    "sess.close()"
   ]
  }
 ],
 "metadata": {
  "kernelspec": {
   "display_name": "Python 3.6",
   "language": "python",
   "name": "python3.6"
  },
  "language_info": {
   "codemirror_mode": {
    "name": "ipython",
    "version": 3
   },
   "file_extension": ".py",
   "mimetype": "text/x-python",
   "name": "python",
   "nbconvert_exporter": "python",
   "pygments_lexer": "ipython3",
   "version": "3.6.0"
  }
 },
 "nbformat": 4,
 "nbformat_minor": 0
}
